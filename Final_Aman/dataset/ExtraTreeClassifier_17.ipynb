{
 "cells": [
  {
   "cell_type": "code",
   "execution_count": 1,
   "metadata": {},
   "outputs": [],
   "source": [
    "import pandas as pd\n",
    "import numpy as np\n",
    "import matplotlib.pyplot as plt\n",
    "import seaborn as sns\n",
    "from sklearn.preprocessing import LabelEncoder\n",
    "from sklearn.metrics import classification_report\n",
    "from sklearn.metrics import accuracy_score,confusion_matrix\n",
    "from sklearn.metrics import roc_auc_score\n",
    "from sklearn.model_selection import train_test_split\n",
    "from sklearn.metrics import cohen_kappa_score, make_scorer\n",
    "\n",
    "from sklearn.linear_model import LogisticRegression\n",
    "from sklearn.ensemble import RandomForestClassifier,\\\n",
    "GradientBoostingClassifier, VotingClassifier, BaggingClassifier, ExtraTreesClassifier\\\n",
    ",AdaBoostClassifier\n",
    "from xgboost import XGBClassifier\n",
    "#from catboost import CatBoostClassifier\n",
    "from sklearn.model_selection import ShuffleSplit, StratifiedKFold\n",
    "from sklearn.model_selection import GridSearchCV,RandomizedSearchCV\n",
    "from sklearn.preprocessing import StandardScaler\n",
    "from collections import Counter\n",
    "from sklearn.metrics import plot_roc_curve"
   ]
  },
  {
   "cell_type": "code",
   "execution_count": 29,
   "metadata": {},
   "outputs": [],
   "source": [
    "train_data = pd.read_csv(\"dataset\\Training Data.csv\")\n",
    "test_data = pd.read_csv(\"dataset\\Test Data.csv\")"
   ]
  },
  {
   "cell_type": "markdown",
   "metadata": {},
   "source": [
    " ## Making test data as train data"
   ]
  },
  {
   "cell_type": "code",
   "execution_count": 30,
   "metadata": {},
   "outputs": [],
   "source": [
    "test_data['profession']=test_data['profession'].apply(lambda x:'Flight_attendant' if x=='Flight attendant' else x )\n",
    "test_data['profession']=test_data['profession'].apply(lambda x:'Petroleum_Engineer' if x=='Petroleum Engineer' else x )\n",
    "test_data['profession']=test_data['profession'].apply(lambda x:'Chartered_Accountant' if x=='Chartered Accountant' else x )\n",
    "test_data['profession']=test_data['profession'].apply(lambda x:'Web_designer' if x=='Web designer' else x )\n",
    "test_data['profession']=test_data['profession'].apply(lambda x:'Financial_Analyst' if x=='Financial Analyst' else x )\n",
    "test_data['profession']=test_data['profession'].apply(lambda x:'Software_Developer' if x=='Software Developer' else x )\n",
    "test_data['profession']=test_data['profession'].apply(lambda x:'Graphic_Designer' if x=='Graphic Designer' else x )\n",
    "test_data['profession']=test_data['profession'].apply(lambda x:'Army_officer' if x=='Army officer' else x )\n",
    "test_data['profession']=test_data['profession'].apply(lambda x:'Civil_servant' if x=='Civil servant' else x )\n",
    "test_data['profession']=test_data['profession'].apply(lambda x:'Chemical_engineer' if x=='Chemical engineer' else x )\n",
    "test_data['profession']=test_data['profession'].apply(lambda x:'Air_traffic_controller' if x=='Air traffic controller' else x )\n",
    "test_data['profession']=test_data['profession'].apply(lambda x:'Civil_engineer' if x=='Civil engineer' else x )\n",
    "test_data['profession']=test_data['profession'].apply(lambda x:'Industrial_Engineer' if x=='Industrial Engineer' else x )\n",
    "test_data['profession']=test_data['profession'].apply(lambda x:'Hotel_Manager' if x=='Hotel Manager' else x )\n",
    "test_data['profession']=test_data['profession'].apply(lambda x:'Mechanical_engineer' if x=='Mechanical engineer' else x )\n",
    "test_data['profession']=test_data['profession'].apply(lambda x:'Computer_operator' if x=='Computer operator' else x )\n",
    "test_data['profession']=test_data['profession'].apply(lambda x:'Technical_writer' if x=='Technical writer' else x )\n",
    "test_data['profession']=test_data['profession'].apply(lambda x:'Technology_specialist' if x=='Technology specialist' else x )\n",
    "test_data['profession']=test_data['profession'].apply(lambda x:'Biomedical_Engineer' if x=='Biomedical Engineer' else x )\n",
    "test_data['profession']=test_data['profession'].apply(lambda x:'Design_Engineer' if x=='Design Engineer' else x )\n",
    "test_data['profession']=test_data['profession'].apply(lambda x:'Computer_hardware_engineer' if x=='Computer hardware engineer' else x )\n",
    "test_data['profession']=test_data['profession'].apply(lambda x:'Fashion_Designer' if x=='Fashion Designer' else x )\n",
    "test_data['profession']=test_data['profession'].apply(lambda x:'Police_officer' if x=='Police officer' else x )\n",
    "#------------------------------------------------------------------------------------------------------------------------------\n",
    "\n",
    "test_data['city']=test_data['city'].apply(lambda x:'Bihar_Sharif' if x=='Bihar Sharif' else x )\n",
    "test_data['city']=test_data['city'].apply(lambda x:'Sri_Ganganagar' if x=='Sri Ganganagar' else x )\n",
    "test_data['city']=test_data['city'].apply(lambda x:'Ghaziabad' if x=='Khora, Ghaziabad' else x )\n",
    "test_data['city']=test_data['city'].apply(lambda x:'New_Delhi' if x=='New Delhi' else x )\n",
    "test_data['city']=test_data['city'].apply(lambda x:'Kirari_Suleman_Nagar' if x=='Kirari Suleman Nagar' else x )\n",
    "test_data['city']=test_data['city'].apply(lambda x:'Sultan_Pur_Majra' if x=='Sultan Pur Majra' else x )\n",
    "test_data['city']=test_data['city'].apply(lambda x:'Rajpur_Sonarpur' if x=='Rajpur Sonarpur' else x )\n",
    "test_data['city']=test_data['city'].apply(lambda x:'Nangloi_Jat' if x=='Nangloi Jat' else x )\n",
    "test_data['city']=test_data['city'].apply(lambda x:'North_Dumdum' if x=='North Dumdum' else x )\n",
    "test_data['city']=test_data['city'].apply(lambda x:'South_Dumdum' if x=='South Dumdum' else x )\n",
    "test_data['city']=test_data['city'].apply(lambda x:'Navi_Mumbai' if x=='Navi Mumbai' else x )\n",
    "test_data['city']=test_data['city'].apply(lambda x:'Raurkela_Industrial_Township' if x=='Raurkela Industrial Township' else x )\n",
    "test_data['city']=test_data['city'].apply(lambda x:'Surendranagar_Dudhrej' if x=='Surendranagar Dudhrej' else x )\n",
    "test_data['city']=test_data['city'].apply(lambda x:'Bhalswa_Jahangir_Pur' if x=='Bhalswa Jahangir Pur' else x )\n",
    "test_data['city']=test_data['city'].apply(lambda x:'Karawal_Nagar' if x=='Karawal Nagar' else x )\n",
    "test_data['city']=test_data['city'].apply(lambda x:'Sangli-Miraj_&_Kupwad' if x=='Sangli-Miraj & Kupwad' else x )\n",
    "#----------------------------------------------------------------------------------------------------------------------------\n",
    "test_data['state']=test_data['state'].apply(lambda x:'West_Bengal' if x=='West Bengal' else x )\n",
    "test_data['state']=test_data['state'].apply(lambda x:'Tamil_Nadu' if x=='Tamil Nadu' else x )\n",
    "test_data['state']=test_data['state'].apply(lambda x:'Andhra_Pradesh' if x=='Andhra Pradesh' else x )\n",
    "test_data['state']=test_data['state'].apply(lambda x:'Madhya_Pradesh' if x=='Madhya Pradesh' else x )\n",
    "test_data['state']=test_data['state'].apply(lambda x:'Uttar_Pradesh' if x=='Uttar Pradesh' else x )\n",
    "test_data['state']=test_data['state'].apply(lambda x:'Uttar_Pradesh' if x=='Uttar Pradesh[5]' else x )\n",
    "test_data['state']=test_data['state'].apply(lambda x:'Jammu_and_Kashmir' if x=='Jammu and Kashmir' else x )\n",
    "test_data['state']=test_data['state'].apply(lambda x:'Himachal_Pradesh' if x=='Himachal Pradesh' else x )\n"
   ]
  },
  {
   "cell_type": "markdown",
   "metadata": {},
   "source": [
    "## Categorical to Numerical"
   ]
  },
  {
   "cell_type": "code",
   "execution_count": 9,
   "metadata": {},
   "outputs": [],
   "source": [
    "#training data\n",
    "cat_col=[col for col in train_data.columns if train_data[col].dtype=='O']\n",
    "Encoders={}\n",
    "for col in cat_col:\n",
    "    Encoders['L_enc_'+str(col)]=LabelEncoder()\n",
    "    train_data[col]=Encoders['L_enc_'+str(col)].fit_transform(train_data[col])"
   ]
  },
  {
   "cell_type": "code",
   "execution_count": 10,
   "metadata": {},
   "outputs": [],
   "source": [
    "for col in cat_col:\n",
    "    test_data[col]=Encoders['L_enc_'+str(col)].transform(test_data[col])\n"
   ]
  },
  {
   "cell_type": "code",
   "execution_count": 11,
   "metadata": {},
   "outputs": [],
   "source": [
    "#xtrain=train_data.drop(['risk_flag'],axis=1)"
   ]
  },
  {
   "cell_type": "markdown",
   "metadata": {},
   "source": [
    "## X,y"
   ]
  },
  {
   "cell_type": "code",
   "execution_count": 12,
   "metadata": {},
   "outputs": [],
   "source": [
    "xtrain=train_data.drop(['risk_flag','Id'],axis=1)\n",
    "ytrain=train_data[\"risk_flag\"]"
   ]
  },
  {
   "cell_type": "code",
   "execution_count": 13,
   "metadata": {},
   "outputs": [],
   "source": [
    "X_train, X_test, y_train, y_test = train_test_split(xtrain,ytrain,test_size=0.3)\n",
    "XY_data = [X_train, X_test, y_train, y_test]"
   ]
  },
  {
   "cell_type": "code",
   "execution_count": 14,
   "metadata": {},
   "outputs": [
    {
     "data": {
      "text/html": [
       "<div>\n",
       "<style scoped>\n",
       "    .dataframe tbody tr th:only-of-type {\n",
       "        vertical-align: middle;\n",
       "    }\n",
       "\n",
       "    .dataframe tbody tr th {\n",
       "        vertical-align: top;\n",
       "    }\n",
       "\n",
       "    .dataframe thead th {\n",
       "        text-align: right;\n",
       "    }\n",
       "</style>\n",
       "<table border=\"1\" class=\"dataframe\">\n",
       "  <thead>\n",
       "    <tr style=\"text-align: right;\">\n",
       "      <th></th>\n",
       "      <th>income</th>\n",
       "      <th>age</th>\n",
       "      <th>experience</th>\n",
       "      <th>married</th>\n",
       "      <th>house_ownership</th>\n",
       "      <th>car_ownership</th>\n",
       "      <th>profession</th>\n",
       "      <th>city</th>\n",
       "      <th>state</th>\n",
       "      <th>current_job_years</th>\n",
       "      <th>current_house_years</th>\n",
       "    </tr>\n",
       "  </thead>\n",
       "  <tbody>\n",
       "    <tr>\n",
       "      <th>104033</th>\n",
       "      <td>924892</td>\n",
       "      <td>27</td>\n",
       "      <td>6</td>\n",
       "      <td>1</td>\n",
       "      <td>2</td>\n",
       "      <td>0</td>\n",
       "      <td>0</td>\n",
       "      <td>94</td>\n",
       "      <td>25</td>\n",
       "      <td>6</td>\n",
       "      <td>12</td>\n",
       "    </tr>\n",
       "    <tr>\n",
       "      <th>224561</th>\n",
       "      <td>5407806</td>\n",
       "      <td>64</td>\n",
       "      <td>1</td>\n",
       "      <td>1</td>\n",
       "      <td>2</td>\n",
       "      <td>0</td>\n",
       "      <td>11</td>\n",
       "      <td>104</td>\n",
       "      <td>25</td>\n",
       "      <td>1</td>\n",
       "      <td>11</td>\n",
       "    </tr>\n",
       "    <tr>\n",
       "      <th>184676</th>\n",
       "      <td>7805855</td>\n",
       "      <td>44</td>\n",
       "      <td>10</td>\n",
       "      <td>1</td>\n",
       "      <td>2</td>\n",
       "      <td>1</td>\n",
       "      <td>29</td>\n",
       "      <td>90</td>\n",
       "      <td>0</td>\n",
       "      <td>10</td>\n",
       "      <td>14</td>\n",
       "    </tr>\n",
       "    <tr>\n",
       "      <th>154200</th>\n",
       "      <td>2806082</td>\n",
       "      <td>76</td>\n",
       "      <td>10</td>\n",
       "      <td>1</td>\n",
       "      <td>1</td>\n",
       "      <td>0</td>\n",
       "      <td>3</td>\n",
       "      <td>119</td>\n",
       "      <td>11</td>\n",
       "      <td>10</td>\n",
       "      <td>14</td>\n",
       "    </tr>\n",
       "    <tr>\n",
       "      <th>31873</th>\n",
       "      <td>7159752</td>\n",
       "      <td>60</td>\n",
       "      <td>18</td>\n",
       "      <td>1</td>\n",
       "      <td>2</td>\n",
       "      <td>0</td>\n",
       "      <td>2</td>\n",
       "      <td>47</td>\n",
       "      <td>4</td>\n",
       "      <td>3</td>\n",
       "      <td>13</td>\n",
       "    </tr>\n",
       "  </tbody>\n",
       "</table>\n",
       "</div>"
      ],
      "text/plain": [
       "         income  age  experience  married  house_ownership  car_ownership  \\\n",
       "104033   924892   27           6        1                2              0   \n",
       "224561  5407806   64           1        1                2              0   \n",
       "184676  7805855   44          10        1                2              1   \n",
       "154200  2806082   76          10        1                1              0   \n",
       "31873   7159752   60          18        1                2              0   \n",
       "\n",
       "        profession  city  state  current_job_years  current_house_years  \n",
       "104033           0    94     25                  6                   12  \n",
       "224561          11   104     25                  1                   11  \n",
       "184676          29    90      0                 10                   14  \n",
       "154200           3   119     11                 10                   14  \n",
       "31873            2    47      4                  3                   13  "
      ]
     },
     "execution_count": 14,
     "metadata": {},
     "output_type": "execute_result"
    }
   ],
   "source": [
    "X_test.head()"
   ]
  },
  {
   "cell_type": "code",
   "execution_count": 15,
   "metadata": {},
   "outputs": [],
   "source": [
    "# Function to get optimal model using grid search CV (n_splits = 5, validation set = 0.175 of train set)\n",
    "def RnCV(param,clf,XY_data):\n",
    "    [X_train, X_test, Y_train, Y_test] = XY_data\n",
    "    clf.fit(X_train,Y_train)\n",
    "    Y_train_pred = clf.predict(X_train)\n",
    "    Y_test_pred = clf.predict(X_test)\n",
    "    print(\"Default Training roc_auc_score = {}\".format(roc_auc_score(Y_train,Y_train_pred)))\n",
    "    print(\"Default Test roc_auc_score = {}\".format(roc_auc_score(Y_test,Y_test_pred)))\n",
    "    cv_split = StratifiedKFold(n_splits = 3)\n",
    "    best_model = RandomizedSearchCV(estimator = clf, param_distributions = param, cv = cv_split,\\\n",
    "                              scoring = 'roc_auc',n_jobs=-1)\n",
    "    best_model.fit(X_train, Y_train)\n",
    "    best_param = best_model.best_params_\n",
    "    print(\"Best parameters are : {}\".format(best_param))\n",
    "    clf.set_params(**best_param)\n",
    "    clf.fit(X_train, Y_train)\n",
    "    Y_train_pred = clf.predict(X_train)\n",
    "    Y_test_pred = clf.predict(X_test)\n",
    "    print(\"Training roc_auc_score = {}\".format(roc_auc_score(Y_train,Y_train_pred)))\n",
    "    print(\"Test roc_auc_score = {}\".format(roc_auc_score(Y_test,Y_test_pred)))\n",
    "    return clf"
   ]
  },
  {
   "cell_type": "code",
   "execution_count": 16,
   "metadata": {},
   "outputs": [],
   "source": [
    "# Function to get optimal model using grid search CV (n_splits = 5, validation set = 0.175 of train set)\n",
    "def GrCV(param,clf,XY_data):\n",
    "    [X_train, X_test, Y_train, Y_test] = XY_data\n",
    "    clf.fit(X_train,Y_train)\n",
    "    Y_train_pred = clf.predict(X_train)\n",
    "    Y_test_pred = clf.predict(X_test)\n",
    "    print(\"Default Training roc_auc = {}\".format(roc_auc_score(Y_train,Y_train_pred)))\n",
    "    print(\"Default Test roc_auc = {}\".format(roc_auc_score(Y_test,Y_test_pred)))\n",
    "    cv_split = StratifiedKFold(n_splits = 5)\n",
    "    kappa_scorer = make_scorer(cohen_kappa_score)\n",
    "    best_model = GridSearchCV(estimator = clf, param_grid = param, cv = cv_split,\\\n",
    "                              scoring = kappa_scorer,n_jobs=-1)\n",
    "    best_model.fit(X_train, Y_train)\n",
    "    best_param = best_model.best_params_\n",
    "    print(\"Best parameters are : {}\".format(best_param))\n",
    "    clf.set_params(**best_param)\n",
    "    clf.fit(X_train, Y_train)\n",
    "    Y_train_pred = clf.predict(X_train)\n",
    "    Y_test_pred = clf.predict(X_test)\n",
    "    print(\"Training roc_auc = {}\".format(roc_auc_score(Y_train,Y_train_pred)))\n",
    "    print(\"Test roc_auc = {}\".format(roc_auc_score(Y_test,Y_test_pred)))\n",
    "    return clf"
   ]
  },
  {
   "cell_type": "code",
   "execution_count": 17,
   "metadata": {},
   "outputs": [],
   "source": [
    "param = {\n",
    "     'criterion': ['gini', 'entropy'],\\\n",
    "     'bootstrap': [False,True],\\\n",
    "     'oob_score': [True,False],\\\n",
    "     'min_samples_split' : range(2,11,2),\\\n",
    "     'min_samples_leaf' : range(1,10,2),\\\n",
    "     'max_features' : [3,5,7,9,11],\\\n",
    "     'max_depth': [30,35,40,45,50],\\\n",
    "     'n_estimators': [150,200,500,100,50],\\\n",
    "     'class_weight':[{0:1, 1:2},'balanced',None,{0:1,1:7}]\\\n",
    "}"
   ]
  },
  {
   "cell_type": "code",
   "execution_count": 18,
   "metadata": {},
   "outputs": [],
   "source": [
    "from imblearn.under_sampling import RandomUnderSampler"
   ]
  },
  {
   "cell_type": "code",
   "execution_count": 12,
   "metadata": {},
   "outputs": [
    {
     "name": "stdout",
     "output_type": "stream",
     "text": [
      "The number of classes before fit Counter({0: 154624, 1: 21776})\n",
      "The number of classes after fit Counter({0: 43552, 1: 21776})\n"
     ]
    },
    {
     "name": "stderr",
     "output_type": "stream",
     "text": [
      "c:\\users\\aman\\appdata\\local\\programs\\python\\python38\\lib\\site-packages\\imblearn\\utils\\_validation.py:587: FutureWarning: Pass sampling_strategy=0.5 as keyword args. From version 0.9 passing these as positional arguments will result in an error\n",
      "  warnings.warn(\n"
     ]
    }
   ],
   "source": [
    "us1=RandomUnderSampler(0.5,random_state=1)\n",
    "X_train_us1,y_train_us1=us1.fit_resample(X_train,y_train)\n",
    "print(\"The number of classes before fit {}\".format(Counter(y_train)))\n",
    "print(\"The number of classes after fit {}\".format(Counter(y_train_us1)))"
   ]
  },
  {
   "cell_type": "code",
   "execution_count": 13,
   "metadata": {},
   "outputs": [],
   "source": [
    "XY_data1 = [X_train_us1, X_test, y_train_us1, y_test]"
   ]
  },
  {
   "cell_type": "code",
   "execution_count": 14,
   "metadata": {},
   "outputs": [],
   "source": [
    "model_ET=ExtraTreesClassifier(n_estimators=500,class_weight={0:1,1:2})"
   ]
  },
  {
   "cell_type": "code",
   "execution_count": 24,
   "metadata": {},
   "outputs": [
    {
     "name": "stdout",
     "output_type": "stream",
     "text": [
      "Default Training roc_auc_score = 0.9556068328970933\n",
      "Default Test roc_auc_score = 0.8385127252051807\n"
     ]
    },
    {
     "name": "stderr",
     "output_type": "stream",
     "text": [
      "c:\\users\\aman\\appdata\\local\\programs\\python\\python38\\lib\\site-packages\\sklearn\\model_selection\\_search.py:918: UserWarning: One or more of the test scores are non-finite: [0.92019905 0.93468487        nan 0.92748714 0.92974241 0.92061885\n",
      " 0.91088876 0.92785791 0.91117909        nan]\n",
      "  warnings.warn(\n"
     ]
    },
    {
     "name": "stdout",
     "output_type": "stream",
     "text": [
      "Best parameters are : {'oob_score': False, 'n_estimators': 500, 'min_samples_split': 4, 'min_samples_leaf': 1, 'max_features': 5, 'max_depth': 30, 'criterion': 'gini', 'class_weight': None, 'bootstrap': True}\n",
      "Training roc_auc_score = 0.9563300730128115\n",
      "Test roc_auc_score = 0.8378180057354421\n"
     ]
    }
   ],
   "source": [
    "clf_us1=RnCV(param,model_ET,XY_data1)"
   ]
  },
  {
   "cell_type": "code",
   "execution_count": 15,
   "metadata": {},
   "outputs": [
    {
     "data": {
      "text/plain": [
       "ExtraTreesClassifier(class_weight={0: 1, 1: 2}, n_estimators=500)"
      ]
     },
     "execution_count": 15,
     "metadata": {},
     "output_type": "execute_result"
    }
   ],
   "source": [
    "model_ET.fit(X_train_us1,y_train_us1)"
   ]
  },
  {
   "cell_type": "code",
   "execution_count": 16,
   "metadata": {},
   "outputs": [],
   "source": [
    "Y_train_pred = model_ET.predict(X_train_us1)\n",
    "Y_test_pred = model_ET.predict(X_test)"
   ]
  },
  {
   "cell_type": "code",
   "execution_count": 17,
   "metadata": {},
   "outputs": [
    {
     "name": "stdout",
     "output_type": "stream",
     "text": [
      "Default Training roc_auc = 0.9574072373254958\n",
      "Default Test roc_auc = 0.8413625879786336\n"
     ]
    }
   ],
   "source": [
    "print(\"Default Training roc_auc = {}\".format(roc_auc_score(y_train_us1,Y_train_pred)))\n",
    "print(\"Default Test roc_auc = {}\".format(roc_auc_score(y_test,Y_test_pred)))"
   ]
  },
  {
   "cell_type": "code",
   "execution_count": 18,
   "metadata": {},
   "outputs": [],
   "source": [
    "prob=model_ET.predict_proba(X_test)[:,1]"
   ]
  },
  {
   "cell_type": "code",
   "execution_count": 19,
   "metadata": {},
   "outputs": [],
   "source": [
    "pred_ens = np.where(prob>0.2,1,0)"
   ]
  },
  {
   "cell_type": "code",
   "execution_count": 20,
   "metadata": {},
   "outputs": [
    {
     "name": "stdout",
     "output_type": "stream",
     "text": [
      "Test roc_auc_score = 0.8923350831569241\n",
      "confusion matrix\n",
      "[[52180 14200]\n",
      " [   13  9207]]\n"
     ]
    }
   ],
   "source": [
    "print(\"Test roc_auc_score = {}\".format(roc_auc_score(y_test,pred_ens)))   \n",
    "print(\"confusion matrix\\n{}\".format(confusion_matrix(y_test,pred_ens))) "
   ]
  },
  {
   "cell_type": "code",
   "execution_count": null,
   "metadata": {},
   "outputs": [],
   "source": []
  },
  {
   "cell_type": "code",
   "execution_count": 21,
   "metadata": {},
   "outputs": [],
   "source": [
    "#d={}\n",
    "#for col in X_train.columns:\n",
    "#    d[col]=col"
   ]
  },
  {
   "cell_type": "code",
   "execution_count": 22,
   "metadata": {},
   "outputs": [],
   "source": [
    "#d"
   ]
  },
  {
   "cell_type": "code",
   "execution_count": 23,
   "metadata": {},
   "outputs": [],
   "source": [
    "#from shapash.explainer.smart_explainer import SmartExplainer"
   ]
  },
  {
   "cell_type": "code",
   "execution_count": 24,
   "metadata": {},
   "outputs": [],
   "source": [
    "#xpl = SmartExplainer(features_dict=d)"
   ]
  },
  {
   "cell_type": "code",
   "execution_count": 25,
   "metadata": {},
   "outputs": [],
   "source": [
    "#xpl"
   ]
  },
  {
   "cell_type": "code",
   "execution_count": 26,
   "metadata": {},
   "outputs": [],
   "source": [
    "#xpl.compile(\n",
    "#    x=X_test,\\\n",
    "#    model=model_ET\n",
    "#)"
   ]
  },
  {
   "cell_type": "code",
   "execution_count": 27,
   "metadata": {},
   "outputs": [],
   "source": [
    "#app = xpl.run_app(title_story='Univ.ai')"
   ]
  },
  {
   "cell_type": "markdown",
   "metadata": {},
   "source": [
    "# Model Submission"
   ]
  },
  {
   "cell_type": "code",
   "execution_count": 19,
   "metadata": {},
   "outputs": [],
   "source": [
    "model_final=ExtraTreesClassifier(n_estimators=500,class_weight={0:1,1:2})"
   ]
  },
  {
   "cell_type": "code",
   "execution_count": 20,
   "metadata": {},
   "outputs": [
    {
     "name": "stdout",
     "output_type": "stream",
     "text": [
      "The number of classes before fit Counter({0: 154678, 1: 21722})\n",
      "The number of classes after fit Counter({0: 43444, 1: 21722})\n"
     ]
    },
    {
     "name": "stderr",
     "output_type": "stream",
     "text": [
      "c:\\users\\aman\\appdata\\local\\programs\\python\\python38\\lib\\site-packages\\imblearn\\utils\\_validation.py:587: FutureWarning: Pass sampling_strategy=0.5 as keyword args. From version 0.9 passing these as positional arguments will result in an error\n",
      "  warnings.warn(\n"
     ]
    }
   ],
   "source": [
    "us1=RandomUnderSampler(0.5,random_state=1)\n",
    "X_train_us1,y_train_us1=us1.fit_resample(X_train,y_train)\n",
    "print(\"The number of classes before fit {}\".format(Counter(y_train)))\n",
    "print(\"The number of classes after fit {}\".format(Counter(y_train_us1)))"
   ]
  },
  {
   "cell_type": "code",
   "execution_count": 21,
   "metadata": {},
   "outputs": [
    {
     "data": {
      "text/plain": [
       "ExtraTreesClassifier(class_weight={0: 1, 1: 2}, n_estimators=500)"
      ]
     },
     "execution_count": 21,
     "metadata": {},
     "output_type": "execute_result"
    }
   ],
   "source": [
    "model_final.fit(X_train_us1,y_train_us1)"
   ]
  },
  {
   "cell_type": "code",
   "execution_count": 27,
   "metadata": {},
   "outputs": [],
   "source": [
    "test_data=test_data.drop('id',axis=1)"
   ]
  },
  {
   "cell_type": "code",
   "execution_count": 28,
   "metadata": {},
   "outputs": [],
   "source": [
    "prob=model_final.predict_proba(test_data)[:,1]"
   ]
  },
  {
   "cell_type": "code",
   "execution_count": 36,
   "metadata": {},
   "outputs": [],
   "source": [
    "pred_ens = np.where(prob>0.2,1,0)"
   ]
  },
  {
   "cell_type": "code",
   "execution_count": 37,
   "metadata": {},
   "outputs": [],
   "source": [
    "test_data = pd.read_csv(\"dataset\\Test Data.csv\")\n",
    "train_data = pd.read_csv(\"dataset\\Training Data.csv\")\n",
    "train_data=train_data.drop('risk_flag',axis=1)\n",
    "test_data.columns=train_data.columns"
   ]
  },
  {
   "cell_type": "code",
   "execution_count": 38,
   "metadata": {},
   "outputs": [
    {
     "data": {
      "text/html": [
       "<div>\n",
       "<style scoped>\n",
       "    .dataframe tbody tr th:only-of-type {\n",
       "        vertical-align: middle;\n",
       "    }\n",
       "\n",
       "    .dataframe tbody tr th {\n",
       "        vertical-align: top;\n",
       "    }\n",
       "\n",
       "    .dataframe thead th {\n",
       "        text-align: right;\n",
       "    }\n",
       "</style>\n",
       "<table border=\"1\" class=\"dataframe\">\n",
       "  <thead>\n",
       "    <tr style=\"text-align: right;\">\n",
       "      <th></th>\n",
       "      <th>Id</th>\n",
       "      <th>income</th>\n",
       "      <th>age</th>\n",
       "      <th>experience</th>\n",
       "      <th>married</th>\n",
       "      <th>house_ownership</th>\n",
       "      <th>car_ownership</th>\n",
       "      <th>profession</th>\n",
       "      <th>city</th>\n",
       "      <th>state</th>\n",
       "      <th>current_job_years</th>\n",
       "      <th>current_house_years</th>\n",
       "    </tr>\n",
       "  </thead>\n",
       "  <tbody>\n",
       "    <tr>\n",
       "      <th>0</th>\n",
       "      <td>1</td>\n",
       "      <td>7393090</td>\n",
       "      <td>59</td>\n",
       "      <td>19</td>\n",
       "      <td>single</td>\n",
       "      <td>rented</td>\n",
       "      <td>no</td>\n",
       "      <td>Geologist</td>\n",
       "      <td>Malda</td>\n",
       "      <td>West Bengal</td>\n",
       "      <td>4</td>\n",
       "      <td>13</td>\n",
       "    </tr>\n",
       "    <tr>\n",
       "      <th>1</th>\n",
       "      <td>2</td>\n",
       "      <td>1215004</td>\n",
       "      <td>25</td>\n",
       "      <td>5</td>\n",
       "      <td>single</td>\n",
       "      <td>rented</td>\n",
       "      <td>no</td>\n",
       "      <td>Firefighter</td>\n",
       "      <td>Jalna</td>\n",
       "      <td>Maharashtra</td>\n",
       "      <td>5</td>\n",
       "      <td>10</td>\n",
       "    </tr>\n",
       "    <tr>\n",
       "      <th>2</th>\n",
       "      <td>3</td>\n",
       "      <td>8901342</td>\n",
       "      <td>50</td>\n",
       "      <td>12</td>\n",
       "      <td>single</td>\n",
       "      <td>rented</td>\n",
       "      <td>no</td>\n",
       "      <td>Lawyer</td>\n",
       "      <td>Thane</td>\n",
       "      <td>Maharashtra</td>\n",
       "      <td>9</td>\n",
       "      <td>14</td>\n",
       "    </tr>\n",
       "    <tr>\n",
       "      <th>3</th>\n",
       "      <td>4</td>\n",
       "      <td>1944421</td>\n",
       "      <td>49</td>\n",
       "      <td>9</td>\n",
       "      <td>married</td>\n",
       "      <td>rented</td>\n",
       "      <td>yes</td>\n",
       "      <td>Analyst</td>\n",
       "      <td>Latur</td>\n",
       "      <td>Maharashtra</td>\n",
       "      <td>3</td>\n",
       "      <td>12</td>\n",
       "    </tr>\n",
       "    <tr>\n",
       "      <th>4</th>\n",
       "      <td>5</td>\n",
       "      <td>13429</td>\n",
       "      <td>25</td>\n",
       "      <td>18</td>\n",
       "      <td>single</td>\n",
       "      <td>rented</td>\n",
       "      <td>yes</td>\n",
       "      <td>Comedian</td>\n",
       "      <td>Berhampore</td>\n",
       "      <td>West Bengal</td>\n",
       "      <td>13</td>\n",
       "      <td>11</td>\n",
       "    </tr>\n",
       "  </tbody>\n",
       "</table>\n",
       "</div>"
      ],
      "text/plain": [
       "   Id   income  age  experience  married house_ownership car_ownership  \\\n",
       "0   1  7393090   59          19   single          rented            no   \n",
       "1   2  1215004   25           5   single          rented            no   \n",
       "2   3  8901342   50          12   single          rented            no   \n",
       "3   4  1944421   49           9  married          rented           yes   \n",
       "4   5    13429   25          18   single          rented           yes   \n",
       "\n",
       "    profession        city        state  current_job_years  \\\n",
       "0    Geologist       Malda  West Bengal                  4   \n",
       "1  Firefighter       Jalna  Maharashtra                  5   \n",
       "2       Lawyer       Thane  Maharashtra                  9   \n",
       "3      Analyst       Latur  Maharashtra                  3   \n",
       "4     Comedian  Berhampore  West Bengal                 13   \n",
       "\n",
       "   current_house_years  \n",
       "0                   13  \n",
       "1                   10  \n",
       "2                   14  \n",
       "3                   12  \n",
       "4                   11  "
      ]
     },
     "execution_count": 38,
     "metadata": {},
     "output_type": "execute_result"
    }
   ],
   "source": [
    "test_data.head()"
   ]
  },
  {
   "cell_type": "code",
   "execution_count": 39,
   "metadata": {},
   "outputs": [],
   "source": [
    "final_dict={'id':test_data.Id.values,'risk_flag':pred_ens}"
   ]
  },
  {
   "cell_type": "code",
   "execution_count": 40,
   "metadata": {},
   "outputs": [],
   "source": [
    "final_sub=pd.DataFrame(final_dict)"
   ]
  },
  {
   "cell_type": "code",
   "execution_count": 29,
   "metadata": {},
   "outputs": [],
   "source": [
    "final_sub.to_csv('Submission_ET_better.csv',index=False)"
   ]
  },
  {
   "cell_type": "code",
   "execution_count": null,
   "metadata": {},
   "outputs": [],
   "source": []
  }
 ],
 "metadata": {
  "kernelspec": {
   "display_name": "Python 3",
   "language": "python",
   "name": "python3"
  },
  "language_info": {
   "codemirror_mode": {
    "name": "ipython",
    "version": 3
   },
   "file_extension": ".py",
   "mimetype": "text/x-python",
   "name": "python",
   "nbconvert_exporter": "python",
   "pygments_lexer": "ipython3",
   "version": "3.8.4"
  }
 },
 "nbformat": 4,
 "nbformat_minor": 4
}
