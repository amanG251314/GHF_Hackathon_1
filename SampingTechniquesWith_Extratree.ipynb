{
 "cells": [
  {
   "cell_type": "code",
   "execution_count": 2,
   "metadata": {},
   "outputs": [],
   "source": [
    "import pandas as pd\n",
    "import numpy as np\n",
    "import matplotlib.pyplot as plt\n",
    "from sklearn.preprocessing import LabelEncoder\n",
    "from sklearn.metrics import classification_report\n",
    "from sklearn.metrics import accuracy_score,confusion_matrix\n",
    "from sklearn.metrics import roc_auc_score\n",
    "from sklearn.model_selection import train_test_split\n",
    "\n",
    "from sklearn.ensemble import RandomForestClassifier,\\\n",
    "GradientBoostingClassifier, VotingClassifier, BaggingClassifier, ExtraTreesClassifier\\\n",
    ",AdaBoostClassifier\n",
    "from xgboost import XGBClassifier\n",
    "from catboost import CatBoostClassifier\n",
    "from sklearn.model_selection import ShuffleSplit, StratifiedKFold\n",
    "from sklearn.model_selection import GridSearchCV,RandomizedSearchCV\n",
    "from collections import Counter\n",
    "from sklearn.metrics import plot_roc_curve"
   ]
  },
  {
   "cell_type": "code",
   "execution_count": 3,
   "metadata": {},
   "outputs": [],
   "source": [
    "train_data = pd.read_csv(r\"dataset\\Training Data.csv\")\n",
    "test_data = pd.read_csv(r\"dataset\\Test Data.csv\")"
   ]
  },
  {
   "cell_type": "markdown",
   "metadata": {},
   "source": [
    " ## Making test data as train data"
   ]
  },
  {
   "cell_type": "code",
   "execution_count": 4,
   "metadata": {},
   "outputs": [],
   "source": [
    "test_data['profession']=test_data['profession'].apply(lambda x:'Flight_attendant' if x=='Flight attendant' else x )\n",
    "test_data['profession']=test_data['profession'].apply(lambda x:'Petroleum_Engineer' if x=='Petroleum Engineer' else x )\n",
    "test_data['profession']=test_data['profession'].apply(lambda x:'Chartered_Accountant' if x=='Chartered Accountant' else x )\n",
    "test_data['profession']=test_data['profession'].apply(lambda x:'Web_designer' if x=='Web designer' else x )\n",
    "test_data['profession']=test_data['profession'].apply(lambda x:'Financial_Analyst' if x=='Financial Analyst' else x )\n",
    "test_data['profession']=test_data['profession'].apply(lambda x:'Software_Developer' if x=='Software Developer' else x )\n",
    "test_data['profession']=test_data['profession'].apply(lambda x:'Graphic_Designer' if x=='Graphic Designer' else x )\n",
    "test_data['profession']=test_data['profession'].apply(lambda x:'Army_officer' if x=='Army officer' else x )\n",
    "test_data['profession']=test_data['profession'].apply(lambda x:'Civil_servant' if x=='Civil servant' else x )\n",
    "test_data['profession']=test_data['profession'].apply(lambda x:'Chemical_engineer' if x=='Chemical engineer' else x )\n",
    "test_data['profession']=test_data['profession'].apply(lambda x:'Air_traffic_controller' if x=='Air traffic controller' else x )\n",
    "test_data['profession']=test_data['profession'].apply(lambda x:'Civil_engineer' if x=='Civil engineer' else x )\n",
    "test_data['profession']=test_data['profession'].apply(lambda x:'Industrial_Engineer' if x=='Industrial Engineer' else x )\n",
    "test_data['profession']=test_data['profession'].apply(lambda x:'Hotel_Manager' if x=='Hotel Manager' else x )\n",
    "test_data['profession']=test_data['profession'].apply(lambda x:'Mechanical_engineer' if x=='Mechanical engineer' else x )\n",
    "test_data['profession']=test_data['profession'].apply(lambda x:'Computer_operator' if x=='Computer operator' else x )\n",
    "test_data['profession']=test_data['profession'].apply(lambda x:'Technical_writer' if x=='Technical writer' else x )\n",
    "test_data['profession']=test_data['profession'].apply(lambda x:'Technology_specialist' if x=='Technology specialist' else x )\n",
    "test_data['profession']=test_data['profession'].apply(lambda x:'Biomedical_Engineer' if x=='Biomedical Engineer' else x )\n",
    "test_data['profession']=test_data['profession'].apply(lambda x:'Design_Engineer' if x=='Design Engineer' else x )\n",
    "test_data['profession']=test_data['profession'].apply(lambda x:'Computer_hardware_engineer' if x=='Computer hardware engineer' else x )\n",
    "test_data['profession']=test_data['profession'].apply(lambda x:'Fashion_Designer' if x=='Fashion Designer' else x )\n",
    "test_data['profession']=test_data['profession'].apply(lambda x:'Police_officer' if x=='Police officer' else x )\n",
    "#------------------------------------------------------------------------------------------------------------------------------\n",
    "\n",
    "test_data['city']=test_data['city'].apply(lambda x:'Bihar_Sharif' if x=='Bihar Sharif' else x )\n",
    "test_data['city']=test_data['city'].apply(lambda x:'Sri_Ganganagar' if x=='Sri Ganganagar' else x )\n",
    "test_data['city']=test_data['city'].apply(lambda x:'Ghaziabad' if x=='Khora, Ghaziabad' else x )\n",
    "test_data['city']=test_data['city'].apply(lambda x:'New_Delhi' if x=='New Delhi' else x )\n",
    "test_data['city']=test_data['city'].apply(lambda x:'Kirari_Suleman_Nagar' if x=='Kirari Suleman Nagar' else x )\n",
    "test_data['city']=test_data['city'].apply(lambda x:'Sultan_Pur_Majra' if x=='Sultan Pur Majra' else x )\n",
    "test_data['city']=test_data['city'].apply(lambda x:'Rajpur_Sonarpur' if x=='Rajpur Sonarpur' else x )\n",
    "test_data['city']=test_data['city'].apply(lambda x:'Nangloi_Jat' if x=='Nangloi Jat' else x )\n",
    "test_data['city']=test_data['city'].apply(lambda x:'North_Dumdum' if x=='North Dumdum' else x )\n",
    "test_data['city']=test_data['city'].apply(lambda x:'South_Dumdum' if x=='South Dumdum' else x )\n",
    "test_data['city']=test_data['city'].apply(lambda x:'Navi_Mumbai' if x=='Navi Mumbai' else x )\n",
    "test_data['city']=test_data['city'].apply(lambda x:'Raurkela_Industrial_Township' if x=='Raurkela Industrial Township' else x )\n",
    "test_data['city']=test_data['city'].apply(lambda x:'Surendranagar_Dudhrej' if x=='Surendranagar Dudhrej' else x )\n",
    "test_data['city']=test_data['city'].apply(lambda x:'Bhalswa_Jahangir_Pur' if x=='Bhalswa Jahangir Pur' else x )\n",
    "test_data['city']=test_data['city'].apply(lambda x:'Karawal_Nagar' if x=='Karawal Nagar' else x )\n",
    "test_data['city']=test_data['city'].apply(lambda x:'Sangli-Miraj_&_Kupwad' if x=='Sangli-Miraj & Kupwad' else x )\n",
    "#----------------------------------------------------------------------------------------------------------------------------\n",
    "test_data['state']=test_data['state'].apply(lambda x:'West_Bengal' if x=='West Bengal' else x )\n",
    "test_data['state']=test_data['state'].apply(lambda x:'Tamil_Nadu' if x=='Tamil Nadu' else x )\n",
    "test_data['state']=test_data['state'].apply(lambda x:'Andhra_Pradesh' if x=='Andhra Pradesh' else x )\n",
    "test_data['state']=test_data['state'].apply(lambda x:'Madhya_Pradesh' if x=='Madhya Pradesh' else x )\n",
    "test_data['state']=test_data['state'].apply(lambda x:'Uttar_Pradesh' if x=='Uttar Pradesh' else x )\n",
    "test_data['state']=test_data['state'].apply(lambda x:'Uttar_Pradesh' if x=='Uttar Pradesh[5]' else x )\n",
    "test_data['state']=test_data['state'].apply(lambda x:'Jammu_and_Kashmir' if x=='Jammu and Kashmir' else x )\n",
    "test_data['state']=test_data['state'].apply(lambda x:'Himachal_Pradesh' if x=='Himachal Pradesh' else x )\n"
   ]
  },
  {
   "cell_type": "markdown",
   "metadata": {},
   "source": [
    "## Categorical to Numerical"
   ]
  },
  {
   "cell_type": "code",
   "execution_count": 5,
   "metadata": {},
   "outputs": [],
   "source": [
    "#training data\n",
    "cat_col=[col for col in train_data.columns if train_data[col].dtype=='O']\n",
    "Encoders={}\n",
    "for col in cat_col:\n",
    "    Encoders['L_enc_'+str(col)]=LabelEncoder()\n",
    "    train_data[col]=Encoders['L_enc_'+str(col)].fit_transform(train_data[col])"
   ]
  },
  {
   "cell_type": "code",
   "execution_count": 6,
   "metadata": {},
   "outputs": [],
   "source": [
    "for col in cat_col:\n",
    "    test_data[col]=Encoders['L_enc_'+str(col)].transform(test_data[col])\n"
   ]
  },
  {
   "cell_type": "markdown",
   "metadata": {},
   "source": [
    "## X,y"
   ]
  },
  {
   "cell_type": "code",
   "execution_count": 7,
   "metadata": {},
   "outputs": [],
   "source": [
    "xtrain=train_data.drop('risk_flag',axis=1)\n",
    "ytrain=train_data[\"risk_flag\"]"
   ]
  },
  {
   "cell_type": "code",
   "execution_count": 8,
   "metadata": {},
   "outputs": [
    {
     "data": {
      "text/html": [
       "<div>\n",
       "<style scoped>\n",
       "    .dataframe tbody tr th:only-of-type {\n",
       "        vertical-align: middle;\n",
       "    }\n",
       "\n",
       "    .dataframe tbody tr th {\n",
       "        vertical-align: top;\n",
       "    }\n",
       "\n",
       "    .dataframe thead th {\n",
       "        text-align: right;\n",
       "    }\n",
       "</style>\n",
       "<table border=\"1\" class=\"dataframe\">\n",
       "  <thead>\n",
       "    <tr style=\"text-align: right;\">\n",
       "      <th></th>\n",
       "      <th>Id</th>\n",
       "      <th>income</th>\n",
       "      <th>age</th>\n",
       "      <th>experience</th>\n",
       "      <th>married</th>\n",
       "      <th>house_ownership</th>\n",
       "      <th>car_ownership</th>\n",
       "      <th>profession</th>\n",
       "      <th>city</th>\n",
       "      <th>state</th>\n",
       "      <th>current_job_years</th>\n",
       "      <th>current_house_years</th>\n",
       "    </tr>\n",
       "  </thead>\n",
       "  <tbody>\n",
       "    <tr>\n",
       "      <th>0</th>\n",
       "      <td>1</td>\n",
       "      <td>1303835</td>\n",
       "      <td>23</td>\n",
       "      <td>3</td>\n",
       "      <td>1</td>\n",
       "      <td>2</td>\n",
       "      <td>0</td>\n",
       "      <td>33</td>\n",
       "      <td>251</td>\n",
       "      <td>13</td>\n",
       "      <td>3</td>\n",
       "      <td>13</td>\n",
       "    </tr>\n",
       "    <tr>\n",
       "      <th>1</th>\n",
       "      <td>2</td>\n",
       "      <td>7574516</td>\n",
       "      <td>40</td>\n",
       "      <td>10</td>\n",
       "      <td>1</td>\n",
       "      <td>2</td>\n",
       "      <td>0</td>\n",
       "      <td>43</td>\n",
       "      <td>227</td>\n",
       "      <td>14</td>\n",
       "      <td>9</td>\n",
       "      <td>13</td>\n",
       "    </tr>\n",
       "    <tr>\n",
       "      <th>2</th>\n",
       "      <td>3</td>\n",
       "      <td>3991815</td>\n",
       "      <td>66</td>\n",
       "      <td>4</td>\n",
       "      <td>0</td>\n",
       "      <td>2</td>\n",
       "      <td>0</td>\n",
       "      <td>47</td>\n",
       "      <td>8</td>\n",
       "      <td>12</td>\n",
       "      <td>4</td>\n",
       "      <td>10</td>\n",
       "    </tr>\n",
       "    <tr>\n",
       "      <th>3</th>\n",
       "      <td>4</td>\n",
       "      <td>6256451</td>\n",
       "      <td>41</td>\n",
       "      <td>2</td>\n",
       "      <td>1</td>\n",
       "      <td>2</td>\n",
       "      <td>1</td>\n",
       "      <td>43</td>\n",
       "      <td>54</td>\n",
       "      <td>17</td>\n",
       "      <td>2</td>\n",
       "      <td>12</td>\n",
       "    </tr>\n",
       "    <tr>\n",
       "      <th>4</th>\n",
       "      <td>5</td>\n",
       "      <td>5768871</td>\n",
       "      <td>47</td>\n",
       "      <td>11</td>\n",
       "      <td>1</td>\n",
       "      <td>2</td>\n",
       "      <td>0</td>\n",
       "      <td>11</td>\n",
       "      <td>296</td>\n",
       "      <td>22</td>\n",
       "      <td>3</td>\n",
       "      <td>14</td>\n",
       "    </tr>\n",
       "  </tbody>\n",
       "</table>\n",
       "</div>"
      ],
      "text/plain": [
       "   Id   income  age  experience  married  house_ownership  car_ownership  \\\n",
       "0   1  1303835   23           3        1                2              0   \n",
       "1   2  7574516   40          10        1                2              0   \n",
       "2   3  3991815   66           4        0                2              0   \n",
       "3   4  6256451   41           2        1                2              1   \n",
       "4   5  5768871   47          11        1                2              0   \n",
       "\n",
       "   profession  city  state  current_job_years  current_house_years  \n",
       "0          33   251     13                  3                   13  \n",
       "1          43   227     14                  9                   13  \n",
       "2          47     8     12                  4                   10  \n",
       "3          43    54     17                  2                   12  \n",
       "4          11   296     22                  3                   14  "
      ]
     },
     "execution_count": 8,
     "metadata": {},
     "output_type": "execute_result"
    }
   ],
   "source": [
    "xtrain.head()"
   ]
  },
  {
   "cell_type": "markdown",
   "metadata": {},
   "source": [
    "## Visualization"
   ]
  },
  {
   "cell_type": "code",
   "execution_count": 9,
   "metadata": {},
   "outputs": [],
   "source": [
    "#x_1,x_2=xtrain[ytrain==1], xtrain[ytrain==0]\n",
    "#x_1= x_1[:].values\n",
    "#x_2= x_2[:].values\n",
    "#Scatter Plot of the data\n",
    "#plt.scatter(list(zip(x_1))[0],list(zip(x_1))[1],color='#labc9c')\n",
    "#plt.scatter(list(zip(x_2))[0],list(zip(x_2))[1],color='#e67e22')\n",
    "\n",
    "#x_coords=list(zip(x_1))[0]+list(zip(x_2))[0]\n",
    "#y_coords=list(zip(x_1))[1]+list(zip(x_2))[1]\n",
    "#plt.axis([min(x_coords),max(x_coords),min(y_coords),max(y_coords)])\n",
    "\n",
    "#plt.tilte('original Dataset')\n",
    "#plt.show()\n",
    "\n"
   ]
  },
  {
   "cell_type": "code",
   "execution_count": 10,
   "metadata": {},
   "outputs": [],
   "source": [
    "X_train, X_test, y_train, y_test = train_test_split(xtrain,ytrain,test_size=0.3,random_state=2021)\n",
    "#XY_data = [X_train, X_test, y_train, y_test]"
   ]
  },
  {
   "cell_type": "code",
   "execution_count": 14,
   "metadata": {},
   "outputs": [],
   "source": [
    "# Function to get optimal model using grid search CV (n_splits = 5, validation set = 0.175 of train set)\n",
    "def RnCV(param,clf,XY_data):\n",
    "    [X_train, X_test, Y_train, Y_test] = XY_data\n",
    "    clf.fit(X_train,Y_train)\n",
    "    Y_train_pred = clf.predict(X_train)\n",
    "    Y_test_pred = clf.predict(X_test)\n",
    "    print(\"Default Training roc_auc_score = {}\".format(roc_auc_score(Y_train,Y_train_pred)))\n",
    "    print(\"Default Test roc_auc_score = {}\".format(roc_auc_score(Y_test,Y_test_pred)))\n",
    "    print(\"Default confusion matrix\\n{}\".format(confusion_matrix(Y_test,Y_test_pred)))\n",
    "    cv_split = StratifiedKFold(n_splits = 5)\n",
    "    best_model = RandomizedSearchCV(estimator = clf, param_distributions = param, cv = cv_split,\\\n",
    "                              scoring = 'roc_auc',n_jobs=-1)\n",
    "    best_model.fit(X_train, Y_train)\n",
    "    best_param = best_model.best_params_\n",
    "    print(\"Best parameters are : {}\".format(best_param))\n",
    "    clf.set_params(**best_param)\n",
    "    clf.fit(X_train, Y_train)\n",
    "    Y_train_pred = clf.predict(X_train)\n",
    "    Y_test_pred = clf.predict(X_test)\n",
    "    print(\"Training roc_auc_score = {}\".format(roc_auc_score(Y_train,Y_train_pred)))\n",
    "    print(\"Test roc_auc_score = {}\".format(roc_auc_score(Y_test,Y_test_pred)))\n",
    "    print(\"confusion matrix\\n{}\".format(confusion_matrix(Y_test,Y_test_pred)))\n",
    "    return clf"
   ]
  },
  {
   "cell_type": "markdown",
   "metadata": {},
   "source": [
    "# Sampling techniques"
   ]
  },
  {
   "cell_type": "markdown",
   "metadata": {},
   "source": [
    "## OverSampling\n"
   ]
  },
  {
   "cell_type": "code",
   "execution_count": 15,
   "metadata": {},
   "outputs": [],
   "source": [
    "from imblearn.over_sampling import RandomOverSampler"
   ]
  },
  {
   "cell_type": "code",
   "execution_count": 16,
   "metadata": {},
   "outputs": [
    {
     "name": "stdout",
     "output_type": "stream",
     "text": [
      "The number of classes before fit Counter({0: 154569, 1: 21831})\n",
      "The number of classes after fit Counter({0: 154569, 1: 115926})\n"
     ]
    },
    {
     "name": "stderr",
     "output_type": "stream",
     "text": [
      "c:\\users\\aman\\appdata\\local\\programs\\python\\python38\\lib\\site-packages\\imblearn\\utils\\_validation.py:587: FutureWarning: Pass sampling_strategy=0.75 as keyword args. From version 0.9 passing these as positional arguments will result in an error\n",
      "  warnings.warn(\n"
     ]
    }
   ],
   "source": [
    "os=RandomOverSampler(0.75)\n",
    "X_train_os,y_train_os=os.fit_resample(X_train,y_train)\n",
    "print(\"The number of classes before fit {}\".format(Counter(y_train)))\n",
    "print(\"The number of classes after fit {}\".format(Counter(y_train_os)))"
   ]
  },
  {
   "cell_type": "code",
   "execution_count": 17,
   "metadata": {},
   "outputs": [],
   "source": [
    "param = {\n",
    "     'criterion': ['gini', 'entropy'],\\\n",
    "     'bootstrap': [False,True],\\\n",
    "     'oob_score': [True,False],\\\n",
    "     'min_samples_split' : range(2,11,2),\\\n",
    "     'min_samples_leaf' : range(1,10,2),\\\n",
    "     'max_features' : range(1,12,1),\\\n",
    "     'max_depth': [20,37],\\\n",
    "     'n_estimators': [200,500,100,50,1000],\\\n",
    " #    'class_weight':[{0:1, 1:10},'balanced',None,{0:1,1:7}]\\\n",
    "}"
   ]
  },
  {
   "cell_type": "code",
   "execution_count": 18,
   "metadata": {},
   "outputs": [],
   "source": [
    "XY_data = [X_train_os, X_test, y_train_os, y_test]"
   ]
  },
  {
   "cell_type": "code",
   "execution_count": 19,
   "metadata": {},
   "outputs": [],
   "source": [
    "model_ET=ExtraTreesClassifier(class_weights={0:1,1:2})"
   ]
  },
  {
   "cell_type": "code",
   "execution_count": 20,
   "metadata": {},
   "outputs": [
    {
     "name": "stdout",
     "output_type": "stream",
     "text": [
      "Default Training roc_auc_score = 1.0\n",
      "Default Test roc_auc_score = 0.7000478545104631\n",
      "Default confusion matrix\n",
      "[[64129  2306]\n",
      " [ 5180  3985]]\n"
     ]
    },
    {
     "name": "stderr",
     "output_type": "stream",
     "text": [
      "c:\\users\\aman\\appdata\\local\\programs\\python\\python38\\lib\\site-packages\\sklearn\\model_selection\\_search.py:918: UserWarning: One or more of the test scores are non-finite: [       nan 0.99853265 0.98200302        nan 0.97908943        nan\n",
      "        nan 0.97785145 0.98425342 0.97897677]\n",
      "  warnings.warn(\n"
     ]
    },
    {
     "name": "stdout",
     "output_type": "stream",
     "text": [
      "Best parameters are : {'oob_score': False, 'n_estimators': 200, 'min_samples_split': 4, 'min_samples_leaf': 1, 'max_features': 11, 'max_depth': 37, 'criterion': 'entropy', 'bootstrap': True}\n",
      "Training roc_auc_score = 0.9998975644864184\n",
      "Test roc_auc_score = 0.7224338865610369\n",
      "confusion matrix\n",
      "[[65226  1209]\n",
      " [ 4921  4244]]\n"
     ]
    }
   ],
   "source": [
    "clf=RnCV(param,model_ET,XY_data)"
   ]
  },
  {
   "cell_type": "markdown",
   "metadata": {},
   "source": [
    "## UnderSamping Version_1"
   ]
  },
  {
   "cell_type": "code",
   "execution_count": 21,
   "metadata": {},
   "outputs": [],
   "source": [
    "from imblearn.under_sampling import RandomUnderSampler"
   ]
  },
  {
   "cell_type": "code",
   "execution_count": 22,
   "metadata": {},
   "outputs": [
    {
     "name": "stdout",
     "output_type": "stream",
     "text": [
      "The number of classes before fit Counter({0: 154569, 1: 21831})\n",
      "The number of classes after fit Counter({0: 43662, 1: 21831})\n"
     ]
    },
    {
     "name": "stderr",
     "output_type": "stream",
     "text": [
      "c:\\users\\aman\\appdata\\local\\programs\\python\\python38\\lib\\site-packages\\imblearn\\utils\\_validation.py:587: FutureWarning: Pass sampling_strategy=0.5 as keyword args. From version 0.9 passing these as positional arguments will result in an error\n",
      "  warnings.warn(\n"
     ]
    }
   ],
   "source": [
    "us1=RandomUnderSampler(0.5,random_state=1)\n",
    "X_train_us1,y_train_us1=us1.fit_resample(X_train,y_train)\n",
    "print(\"The number of classes before fit {}\".format(Counter(y_train)))\n",
    "print(\"The number of classes after fit {}\".format(Counter(y_train_us1)))"
   ]
  },
  {
   "cell_type": "code",
   "execution_count": 23,
   "metadata": {},
   "outputs": [],
   "source": [
    "model_ET1=ExtraTreesClassifier()"
   ]
  },
  {
   "cell_type": "code",
   "execution_count": 24,
   "metadata": {},
   "outputs": [],
   "source": [
    "XY_data1 = [X_train_us1, X_test, y_train_us1, y_test]"
   ]
  },
  {
   "cell_type": "code",
   "execution_count": 25,
   "metadata": {},
   "outputs": [
    {
     "name": "stdout",
     "output_type": "stream",
     "text": [
      "Default Training roc_auc_score = 1.0\n",
      "Default Test roc_auc_score = 0.7909058692540867\n",
      "Default confusion matrix\n",
      "[[60283  6152]\n",
      " [ 2984  6181]]\n"
     ]
    },
    {
     "name": "stderr",
     "output_type": "stream",
     "text": [
      "c:\\users\\aman\\appdata\\local\\programs\\python\\python38\\lib\\site-packages\\sklearn\\model_selection\\_search.py:918: UserWarning: One or more of the test scores are non-finite: [       nan 0.91048078        nan 0.93116269        nan 0.92299598\n",
      " 0.8800074  0.90740599        nan 0.92983145]\n",
      "  warnings.warn(\n"
     ]
    },
    {
     "name": "stdout",
     "output_type": "stream",
     "text": [
      "Best parameters are : {'oob_score': True, 'n_estimators': 100, 'min_samples_split': 6, 'min_samples_leaf': 3, 'max_features': 2, 'max_depth': 20, 'criterion': 'gini', 'bootstrap': True}\n",
      "Training roc_auc_score = 0.8407081672850534\n",
      "Test roc_auc_score = 0.7727044031199909\n",
      "confusion matrix\n",
      "[[62714  3721]\n",
      " [ 3653  5512]]\n"
     ]
    }
   ],
   "source": [
    "clf_us1=RnCV(param,model_ET1,XY_data1)"
   ]
  },
  {
   "cell_type": "markdown",
   "metadata": {},
   "source": [
    "## Undersampling Version_2"
   ]
  },
  {
   "cell_type": "code",
   "execution_count": 27,
   "metadata": {},
   "outputs": [
    {
     "ename": "SyntaxError",
     "evalue": "positional argument follows keyword argument (<ipython-input-27-6c81281e3cba>, line 1)",
     "output_type": "error",
     "traceback": [
      "\u001b[1;36m  File \u001b[1;32m\"<ipython-input-27-6c81281e3cba>\"\u001b[1;36m, line \u001b[1;32m1\u001b[0m\n\u001b[1;33m    us1=RandomUnderSampler(0.5,random_state=1,2)\u001b[0m\n\u001b[1;37m                                              ^\u001b[0m\n\u001b[1;31mSyntaxError\u001b[0m\u001b[1;31m:\u001b[0m positional argument follows keyword argument\n"
     ]
    }
   ],
   "source": [
    "us1=RandomUnderSampler(0.5,random_state=1,version=2)\n",
    "X_train_us2,y_train_us2=us2.fit_resample(X_train,y_train)\n",
    "print(\"The number of classes before fit {}\".format(Counter(y_train)))\n",
    "print(\"The number of classes after fit {}\".format(Counter(y_train_us2)))"
   ]
  },
  {
   "cell_type": "code",
   "execution_count": null,
   "metadata": {},
   "outputs": [],
   "source": [
    "model_ET2=ExtraTreesClassifier()"
   ]
  },
  {
   "cell_type": "code",
   "execution_count": null,
   "metadata": {},
   "outputs": [],
   "source": [
    "XY_data2 = [X_train_us2, X_test, y_train_us2, y_test]"
   ]
  },
  {
   "cell_type": "code",
   "execution_count": null,
   "metadata": {},
   "outputs": [],
   "source": [
    "clf_us2=RnCV(param,model_ET2,XY_data2)"
   ]
  },
  {
   "cell_type": "markdown",
   "metadata": {},
   "source": [
    "## SMOTETomek"
   ]
  },
  {
   "cell_type": "code",
   "execution_count": 26,
   "metadata": {},
   "outputs": [],
   "source": [
    "from imblearn.combine import SMOTETomek"
   ]
  },
  {
   "cell_type": "code",
   "execution_count": 27,
   "metadata": {},
   "outputs": [
    {
     "name": "stderr",
     "output_type": "stream",
     "text": [
      "c:\\users\\aman\\appdata\\local\\programs\\python\\python38\\lib\\site-packages\\imblearn\\utils\\_validation.py:587: FutureWarning: Pass sampling_strategy=0.75 as keyword args. From version 0.9 passing these as positional arguments will result in an error\n",
      "  warnings.warn(\n"
     ]
    },
    {
     "name": "stdout",
     "output_type": "stream",
     "text": [
      "The number of classes before fit Counter({0: 154569, 1: 21831})\n",
      "The number of classes after fit Counter({0: 139798, 1: 101155})\n"
     ]
    }
   ],
   "source": [
    "st=SMOTETomek(0.75)\n",
    "X_train_st,y_train_st=st.fit_resample(X_train,y_train)\n",
    "print(\"The number of classes before fit {}\".format(Counter(y_train)))\n",
    "print(\"The number of classes after fit {}\".format(Counter(y_train_st)))"
   ]
  },
  {
   "cell_type": "code",
   "execution_count": 28,
   "metadata": {},
   "outputs": [],
   "source": [
    "model_st=ExtraTreesClassifier()"
   ]
  },
  {
   "cell_type": "code",
   "execution_count": 29,
   "metadata": {},
   "outputs": [],
   "source": [
    "XY_data_st = [X_train_st, X_test, y_train_st, y_test]"
   ]
  },
  {
   "cell_type": "code",
   "execution_count": 30,
   "metadata": {},
   "outputs": [
    {
     "name": "stdout",
     "output_type": "stream",
     "text": [
      "Default Training roc_auc_score = 1.0\n",
      "Default Test roc_auc_score = 0.7220637131380155\n",
      "Default confusion matrix\n",
      "[[61132  5303]\n",
      " [ 4363  4802]]\n"
     ]
    },
    {
     "name": "stderr",
     "output_type": "stream",
     "text": [
      "c:\\users\\aman\\appdata\\local\\programs\\python\\python38\\lib\\site-packages\\sklearn\\model_selection\\_search.py:918: UserWarning: One or more of the test scores are non-finite: [       nan 0.95483565 0.96564172        nan        nan 0.94948557\n",
      "        nan 0.96878071 0.9551082  0.97449179]\n",
      "  warnings.warn(\n"
     ]
    },
    {
     "name": "stdout",
     "output_type": "stream",
     "text": [
      "Best parameters are : {'oob_score': False, 'n_estimators': 200, 'min_samples_split': 8, 'min_samples_leaf': 1, 'max_features': 10, 'max_depth': 37, 'criterion': 'gini', 'bootstrap': False}\n",
      "Training roc_auc_score = 0.9909369777255789\n",
      "Test roc_auc_score = 0.7423178236680156\n",
      "confusion matrix\n",
      "[[61837  4598]\n",
      " [ 4089  5076]]\n"
     ]
    }
   ],
   "source": [
    "clf_st=RnCV(param,model_st,XY_data_st)"
   ]
  },
  {
   "cell_type": "markdown",
   "metadata": {},
   "source": [
    "# TomekLinks"
   ]
  },
  {
   "cell_type": "code",
   "execution_count": 31,
   "metadata": {},
   "outputs": [],
   "source": [
    "from imblearn.under_sampling import TomekLinks"
   ]
  },
  {
   "cell_type": "code",
   "execution_count": 32,
   "metadata": {},
   "outputs": [
    {
     "name": "stdout",
     "output_type": "stream",
     "text": [
      "The number of classes before fit Counter({0: 154569, 1: 21831})\n",
      "The number of classes after fit Counter({0: 143074, 1: 21831})\n"
     ]
    }
   ],
   "source": [
    "tl= TomekLinks()\n",
    "X_train_tl,y_train_tl=tl.fit_resample(X_train,y_train)\n",
    "print(\"The number of classes before fit {}\".format(Counter(y_train)))\n",
    "print(\"The number of classes after fit {}\".format(Counter(y_train_tl)))"
   ]
  },
  {
   "cell_type": "code",
   "execution_count": 33,
   "metadata": {},
   "outputs": [],
   "source": [
    "model_tl=ExtraTreesClassifier()"
   ]
  },
  {
   "cell_type": "code",
   "execution_count": 34,
   "metadata": {},
   "outputs": [],
   "source": [
    "XY_data_tl = [X_train_tl, X_test, y_train_tl, y_test]"
   ]
  },
  {
   "cell_type": "code",
   "execution_count": 35,
   "metadata": {},
   "outputs": [
    {
     "name": "stdout",
     "output_type": "stream",
     "text": [
      "Default Training roc_auc_score = 1.0\n",
      "Default Test roc_auc_score = 0.7080466774250012\n",
      "Default confusion matrix\n",
      "[[64032  2403]\n",
      " [ 5020  4145]]\n"
     ]
    },
    {
     "name": "stderr",
     "output_type": "stream",
     "text": [
      "c:\\users\\aman\\appdata\\local\\programs\\python\\python38\\lib\\site-packages\\sklearn\\model_selection\\_search.py:918: UserWarning: One or more of the test scores are non-finite: [0.91896491 0.94114463 0.92880172 0.93396108        nan 0.93290973\n",
      "        nan 0.93300977 0.93081985 0.93403941]\n",
      "  warnings.warn(\n"
     ]
    },
    {
     "name": "stdout",
     "output_type": "stream",
     "text": [
      "Best parameters are : {'oob_score': False, 'n_estimators': 1000, 'min_samples_split': 6, 'min_samples_leaf': 7, 'max_features': 8, 'max_depth': 37, 'criterion': 'entropy', 'bootstrap': False}\n",
      "Training roc_auc_score = 0.7054052916935981\n",
      "Test roc_auc_score = 0.624475826820624\n",
      "confusion matrix\n",
      "[[65867   568]\n",
      " [ 6805  2360]]\n"
     ]
    }
   ],
   "source": [
    "clf_tl=RnCV(param,model_tl,XY_data_tl)"
   ]
  },
  {
   "cell_type": "markdown",
   "metadata": {},
   "source": [
    "## SMOTE ENN"
   ]
  },
  {
   "cell_type": "code",
   "execution_count": 36,
   "metadata": {},
   "outputs": [],
   "source": [
    "from imblearn.combine import SMOTEENN"
   ]
  },
  {
   "cell_type": "code",
   "execution_count": 37,
   "metadata": {},
   "outputs": [
    {
     "name": "stdout",
     "output_type": "stream",
     "text": [
      "The number of classes before fit Counter({0: 154569, 1: 21831})\n",
      "The number of classes after fit Counter({1: 93581, 0: 84807})\n"
     ]
    }
   ],
   "source": [
    "senn=SMOTEENN(random_state=1)\n",
    "X_train_senn,y_train_senn=senn.fit_resample(X_train,y_train)\n",
    "print(\"The number of classes before fit {}\".format(Counter(y_train)))\n",
    "print(\"The number of classes after fit {}\".format(Counter(y_train_senn)))"
   ]
  },
  {
   "cell_type": "code",
   "execution_count": 38,
   "metadata": {},
   "outputs": [],
   "source": [
    "model_senn=ExtraTreesClassifier()"
   ]
  },
  {
   "cell_type": "code",
   "execution_count": 39,
   "metadata": {},
   "outputs": [],
   "source": [
    "XY_data_senn = [X_train_senn, X_test, y_train_senn, y_test]"
   ]
  },
  {
   "cell_type": "code",
   "execution_count": null,
   "metadata": {},
   "outputs": [
    {
     "name": "stdout",
     "output_type": "stream",
     "text": [
      "Default Training roc_auc_score = 1.0\n",
      "Default Test roc_auc_score = 0.7423636457475323\n",
      "Default confusion matrix\n",
      "[[57936  8499]\n",
      " [ 3550  5615]]\n"
     ]
    }
   ],
   "source": [
    "clf_senn=RnCV(param,model_senn,XY_data_senn)"
   ]
  },
  {
   "cell_type": "markdown",
   "metadata": {},
   "source": [
    "## Condensed NearestNeighbour"
   ]
  },
  {
   "cell_type": "code",
   "execution_count": 11,
   "metadata": {},
   "outputs": [],
   "source": [
    "from imblearn.under_sampling import CondensedNearestNeighbour"
   ]
  },
  {
   "cell_type": "code",
   "execution_count": null,
   "metadata": {},
   "outputs": [],
   "source": [
    "cnn=CondensedNearestNeighbour(random_state=1)\n",
    "X_train_cnn,y_train_cnn=cnn.fit_resample(X_train,y_train)\n",
    "print(\"The number of classes before fit {}\".format(Counter(y_train)))\n",
    "print(\"The number of classes after fit {}\".format(Counter(y_train_cnn)))"
   ]
  },
  {
   "cell_type": "code",
   "execution_count": null,
   "metadata": {},
   "outputs": [],
   "source": [
    "model_cnn=ExtraTreesClassifier()"
   ]
  },
  {
   "cell_type": "code",
   "execution_count": null,
   "metadata": {},
   "outputs": [],
   "source": [
    "XY_data_cnn = [X_train_cnn, X_test, y_train_cnn, y_test]"
   ]
  },
  {
   "cell_type": "code",
   "execution_count": null,
   "metadata": {},
   "outputs": [],
   "source": [
    "clf_cnn=RnCV(param,model_cnn,XY_data_cnn)"
   ]
  },
  {
   "cell_type": "markdown",
   "metadata": {},
   "source": [
    "##  Edited NearestNeighbours"
   ]
  },
  {
   "cell_type": "code",
   "execution_count": null,
   "metadata": {},
   "outputs": [],
   "source": [
    "from imblearn.under_sampling import EditedNearestNeighbours"
   ]
  },
  {
   "cell_type": "code",
   "execution_count": null,
   "metadata": {},
   "outputs": [],
   "source": [
    "enn=EditedNearestNeighbours()\n",
    "X_train_enn,y_train_enn=enn.fit_resample(X_train,y_train)\n",
    "print(\"The number of classes before fit {}\".format(Counter(y_train)))\n",
    "print(\"The number of classes after fit {}\".format(Counter(y_train_enn)))"
   ]
  },
  {
   "cell_type": "code",
   "execution_count": null,
   "metadata": {},
   "outputs": [],
   "source": [
    "model_enn=ExtraTreesClassifier()"
   ]
  },
  {
   "cell_type": "code",
   "execution_count": null,
   "metadata": {},
   "outputs": [],
   "source": [
    "XY_data_enn = [X_train_enn, X_test, y_train_enn, y_test]"
   ]
  },
  {
   "cell_type": "code",
   "execution_count": null,
   "metadata": {},
   "outputs": [],
   "source": [
    "clf_cnn=RnCV(param,model_enn,XY_data_enn)"
   ]
  },
  {
   "cell_type": "code",
   "execution_count": null,
   "metadata": {},
   "outputs": [],
   "source": [
    "model_CW=ExtraTreesClassifier(class_weight={0:1,1:10})"
   ]
  },
  {
   "cell_type": "code",
   "execution_count": null,
   "metadata": {},
   "outputs": [],
   "source": [
    "XY_data = [X_train, X_test, y_train, y_test]"
   ]
  },
  {
   "cell_type": "code",
   "execution_count": null,
   "metadata": {
    "scrolled": true
   },
   "outputs": [],
   "source": [
    "clf=RnCV(param,model_CW,XY_data)"
   ]
  },
  {
   "cell_type": "markdown",
   "metadata": {},
   "source": [
    "# Easy Esemble techniques\n"
   ]
  },
  {
   "cell_type": "code",
   "execution_count": null,
   "metadata": {},
   "outputs": [],
   "source": [
    "from imblearn.ensemble import BalancedBaggingClassifier"
   ]
  },
  {
   "cell_type": "code",
   "execution_count": null,
   "metadata": {},
   "outputs": [],
   "source": [
    "base_clf=XGBClassifier(min_child_weight= 7,max_depth= 12,learning_rate= 0.2,gamma= 0.3,colsample_bytree= 1)"
   ]
  },
  {
   "cell_type": "code",
   "execution_count": null,
   "metadata": {},
   "outputs": [],
   "source": [
    "bbc=BalancedBaggingClassifier(base_estimator=base_clf,\\\n",
    "                                 sampling_strategy='auto',\\\n",
    "                                 replacement=False,\\\n",
    "                                random_state=0)\n",
    "\n",
    "bbc.fit(X_train, y_train) \n",
    "y_pred = bbc.predict(X_test)\n",
    "roc_auc_score(y_test,y_pred)\n"
   ]
  },
  {
   "cell_type": "code",
   "execution_count": 102,
   "metadata": {},
   "outputs": [
    {
     "data": {
      "text/plain": [
       "<sklearn.metrics._plot.roc_curve.RocCurveDisplay at 0x23296cd27c0>"
      ]
     },
     "execution_count": 102,
     "metadata": {},
     "output_type": "execute_result"
    },
    {
     "data": {
      "image/png": "[encoded data removed]",
      "text/plain": [
       "<Figure size 432x288 with 1 Axes>"
      ]
     },
     "metadata": {
      "needs_background": "light"
     },
     "output_type": "display_data"
    }
   ],
   "source": [
    "plot_roc_curve(bbc,X_test,y_test)"
   ]
  },
  {
   "cell_type": "code",
   "execution_count": 54,
   "metadata": {},
   "outputs": [],
   "source": [
    "from imblearn.ensemble import BalancedRandomForestClassifier"
   ]
  },
  {
   "cell_type": "code",
   "execution_count": 56,
   "metadata": {},
   "outputs": [
    {
     "data": {
      "text/plain": [
       "0.8825403058515942"
      ]
     },
     "execution_count": 56,
     "metadata": {},
     "output_type": "execute_result"
    }
   ],
   "source": [
    "brf = BalancedRandomForestClassifier(n_estimators=100, random_state=0)\n",
    "brf.fit(X_train, y_train) \n",
    "y_pred = brf.predict(X_test)\n",
    "roc_auc_score(y_test,y_pred)"
   ]
  },
  {
   "cell_type": "code",
   "execution_count": 103,
   "metadata": {},
   "outputs": [
    {
     "data": {
      "text/plain": [
       "<sklearn.metrics._plot.roc_curve.RocCurveDisplay at 0x23296cd2bb0>"
      ]
     },
     "execution_count": 103,
     "metadata": {},
     "output_type": "execute_result"
    },
    {
     "data": {
      "image/png": "[encoded data removed]",
      "text/plain": [
       "<Figure size 432x288 with 1 Axes>"
      ]
     },
     "metadata": {
      "needs_background": "light"
     },
     "output_type": "display_data"
    }
   ],
   "source": [
    "plot_roc_curve(brf,X_test,y_test)"
   ]
  },
  {
   "cell_type": "code",
   "execution_count": 57,
   "metadata": {},
   "outputs": [],
   "source": [
    "from imblearn.ensemble import RUSBoostClassifier"
   ]
  },
  {
   "cell_type": "code",
   "execution_count": 58,
   "metadata": {},
   "outputs": [
    {
     "data": {
      "text/plain": [
       "0.6426527030723662"
      ]
     },
     "execution_count": 58,
     "metadata": {},
     "output_type": "execute_result"
    }
   ],
   "source": [
    "rusboost = RUSBoostClassifier(n_estimators=200, algorithm='SAMME.R',\\\n",
    "                             random_state=0)\n",
    "rusboost.fit(X_train, y_train) \n",
    "y_pred = rusboost.predict(X_test)\n",
    "roc_auc_score(y_test,y_pred)"
   ]
  },
  {
   "cell_type": "code",
   "execution_count": 66,
   "metadata": {},
   "outputs": [],
   "source": [
    "from imblearn.ensemble import EasyEnsembleClassifier"
   ]
  },
  {
   "cell_type": "code",
   "execution_count": 67,
   "metadata": {},
   "outputs": [
    {
     "data": {
      "text/plain": [
       "0.6227766783160522"
      ]
     },
     "execution_count": 67,
     "metadata": {},
     "output_type": "execute_result"
    }
   ],
   "source": [
    "eec = EasyEnsembleClassifier(random_state=0)\n",
    "eec.fit(X_train, y_train) \n",
    "y_pred = eec.predict(X_test)\n",
    "roc_auc_score(y_test,y_pred)"
   ]
  },
  {
   "cell_type": "markdown",
   "metadata": {},
   "source": [
    "# Submission Model"
   ]
  },
  {
   "cell_type": "code",
   "execution_count": 88,
   "metadata": {},
   "outputs": [],
   "source": [
    "model_sub=BalancedBaggingClassifier(base_estimator=base_clf,\\\n",
    "                                 sampling_strategy='auto',\\\n",
    "                                 replacement=False,\\\n",
    "                                random_state=0)"
   ]
  },
  {
   "cell_type": "code",
   "execution_count": 89,
   "metadata": {},
   "outputs": [
    {
     "name": "stderr",
     "output_type": "stream",
     "text": [
      "c:\\users\\aman\\appdata\\local\\programs\\python\\python38\\lib\\site-packages\\xgboost\\sklearn.py:888: UserWarning: The use of label encoder in XGBClassifier is deprecated and will be removed in a future release. To remove this warning, do the following: 1) Pass option use_label_encoder=False when constructing XGBClassifier object; and 2) Encode your labels (y) as integers starting with 0, i.e. 0, 1, 2, ..., [num_class - 1].\n",
      "  warnings.warn(label_encoder_deprecation_msg, UserWarning)\n"
     ]
    },
    {
     "name": "stdout",
     "output_type": "stream",
     "text": [
      "[15:40:14] WARNING: C:/Users/Administrator/workspace/xgboost-win64_release_1.3.0/src/learner.cc:1061: Starting in XGBoost 1.3.0, the default evaluation metric used with the objective 'binary:logistic' was changed from 'error' to 'logloss'. Explicitly set eval_metric if you'd like to restore the old behavior.\n"
     ]
    },
    {
     "name": "stderr",
     "output_type": "stream",
     "text": [
      "c:\\users\\aman\\appdata\\local\\programs\\python\\python38\\lib\\site-packages\\xgboost\\sklearn.py:888: UserWarning: The use of label encoder in XGBClassifier is deprecated and will be removed in a future release. To remove this warning, do the following: 1) Pass option use_label_encoder=False when constructing XGBClassifier object; and 2) Encode your labels (y) as integers starting with 0, i.e. 0, 1, 2, ..., [num_class - 1].\n",
      "  warnings.warn(label_encoder_deprecation_msg, UserWarning)\n"
     ]
    },
    {
     "name": "stdout",
     "output_type": "stream",
     "text": [
      "[15:40:20] WARNING: C:/Users/Administrator/workspace/xgboost-win64_release_1.3.0/src/learner.cc:1061: Starting in XGBoost 1.3.0, the default evaluation metric used with the objective 'binary:logistic' was changed from 'error' to 'logloss'. Explicitly set eval_metric if you'd like to restore the old behavior.\n"
     ]
    },
    {
     "name": "stderr",
     "output_type": "stream",
     "text": [
      "c:\\users\\aman\\appdata\\local\\programs\\python\\python38\\lib\\site-packages\\xgboost\\sklearn.py:888: UserWarning: The use of label encoder in XGBClassifier is deprecated and will be removed in a future release. To remove this warning, do the following: 1) Pass option use_label_encoder=False when constructing XGBClassifier object; and 2) Encode your labels (y) as integers starting with 0, i.e. 0, 1, 2, ..., [num_class - 1].\n",
      "  warnings.warn(label_encoder_deprecation_msg, UserWarning)\n"
     ]
    },
    {
     "name": "stdout",
     "output_type": "stream",
     "text": [
      "[15:40:26] WARNING: C:/Users/Administrator/workspace/xgboost-win64_release_1.3.0/src/learner.cc:1061: Starting in XGBoost 1.3.0, the default evaluation metric used with the objective 'binary:logistic' was changed from 'error' to 'logloss'. Explicitly set eval_metric if you'd like to restore the old behavior.\n"
     ]
    },
    {
     "name": "stderr",
     "output_type": "stream",
     "text": [
      "c:\\users\\aman\\appdata\\local\\programs\\python\\python38\\lib\\site-packages\\xgboost\\sklearn.py:888: UserWarning: The use of label encoder in XGBClassifier is deprecated and will be removed in a future release. To remove this warning, do the following: 1) Pass option use_label_encoder=False when constructing XGBClassifier object; and 2) Encode your labels (y) as integers starting with 0, i.e. 0, 1, 2, ..., [num_class - 1].\n",
      "  warnings.warn(label_encoder_deprecation_msg, UserWarning)\n"
     ]
    },
    {
     "name": "stdout",
     "output_type": "stream",
     "text": [
      "[15:40:32] WARNING: C:/Users/Administrator/workspace/xgboost-win64_release_1.3.0/src/learner.cc:1061: Starting in XGBoost 1.3.0, the default evaluation metric used with the objective 'binary:logistic' was changed from 'error' to 'logloss'. Explicitly set eval_metric if you'd like to restore the old behavior.\n"
     ]
    },
    {
     "name": "stderr",
     "output_type": "stream",
     "text": [
      "c:\\users\\aman\\appdata\\local\\programs\\python\\python38\\lib\\site-packages\\xgboost\\sklearn.py:888: UserWarning: The use of label encoder in XGBClassifier is deprecated and will be removed in a future release. To remove this warning, do the following: 1) Pass option use_label_encoder=False when constructing XGBClassifier object; and 2) Encode your labels (y) as integers starting with 0, i.e. 0, 1, 2, ..., [num_class - 1].\n",
      "  warnings.warn(label_encoder_deprecation_msg, UserWarning)\n"
     ]
    },
    {
     "name": "stdout",
     "output_type": "stream",
     "text": [
      "[15:40:37] WARNING: C:/Users/Administrator/workspace/xgboost-win64_release_1.3.0/src/learner.cc:1061: Starting in XGBoost 1.3.0, the default evaluation metric used with the objective 'binary:logistic' was changed from 'error' to 'logloss'. Explicitly set eval_metric if you'd like to restore the old behavior.\n"
     ]
    },
    {
     "name": "stderr",
     "output_type": "stream",
     "text": [
      "c:\\users\\aman\\appdata\\local\\programs\\python\\python38\\lib\\site-packages\\xgboost\\sklearn.py:888: UserWarning: The use of label encoder in XGBClassifier is deprecated and will be removed in a future release. To remove this warning, do the following: 1) Pass option use_label_encoder=False when constructing XGBClassifier object; and 2) Encode your labels (y) as integers starting with 0, i.e. 0, 1, 2, ..., [num_class - 1].\n",
      "  warnings.warn(label_encoder_deprecation_msg, UserWarning)\n"
     ]
    },
    {
     "name": "stdout",
     "output_type": "stream",
     "text": [
      "[15:40:43] WARNING: C:/Users/Administrator/workspace/xgboost-win64_release_1.3.0/src/learner.cc:1061: Starting in XGBoost 1.3.0, the default evaluation metric used with the objective 'binary:logistic' was changed from 'error' to 'logloss'. Explicitly set eval_metric if you'd like to restore the old behavior.\n"
     ]
    },
    {
     "name": "stderr",
     "output_type": "stream",
     "text": [
      "c:\\users\\aman\\appdata\\local\\programs\\python\\python38\\lib\\site-packages\\xgboost\\sklearn.py:888: UserWarning: The use of label encoder in XGBClassifier is deprecated and will be removed in a future release. To remove this warning, do the following: 1) Pass option use_label_encoder=False when constructing XGBClassifier object; and 2) Encode your labels (y) as integers starting with 0, i.e. 0, 1, 2, ..., [num_class - 1].\n",
      "  warnings.warn(label_encoder_deprecation_msg, UserWarning)\n"
     ]
    },
    {
     "name": "stdout",
     "output_type": "stream",
     "text": [
      "[15:40:49] WARNING: C:/Users/Administrator/workspace/xgboost-win64_release_1.3.0/src/learner.cc:1061: Starting in XGBoost 1.3.0, the default evaluation metric used with the objective 'binary:logistic' was changed from 'error' to 'logloss'. Explicitly set eval_metric if you'd like to restore the old behavior.\n"
     ]
    },
    {
     "name": "stderr",
     "output_type": "stream",
     "text": [
      "c:\\users\\aman\\appdata\\local\\programs\\python\\python38\\lib\\site-packages\\xgboost\\sklearn.py:888: UserWarning: The use of label encoder in XGBClassifier is deprecated and will be removed in a future release. To remove this warning, do the following: 1) Pass option use_label_encoder=False when constructing XGBClassifier object; and 2) Encode your labels (y) as integers starting with 0, i.e. 0, 1, 2, ..., [num_class - 1].\n",
      "  warnings.warn(label_encoder_deprecation_msg, UserWarning)\n"
     ]
    },
    {
     "name": "stdout",
     "output_type": "stream",
     "text": [
      "[15:40:55] WARNING: C:/Users/Administrator/workspace/xgboost-win64_release_1.3.0/src/learner.cc:1061: Starting in XGBoost 1.3.0, the default evaluation metric used with the objective 'binary:logistic' was changed from 'error' to 'logloss'. Explicitly set eval_metric if you'd like to restore the old behavior.\n"
     ]
    },
    {
     "name": "stderr",
     "output_type": "stream",
     "text": [
      "c:\\users\\aman\\appdata\\local\\programs\\python\\python38\\lib\\site-packages\\xgboost\\sklearn.py:888: UserWarning: The use of label encoder in XGBClassifier is deprecated and will be removed in a future release. To remove this warning, do the following: 1) Pass option use_label_encoder=False when constructing XGBClassifier object; and 2) Encode your labels (y) as integers starting with 0, i.e. 0, 1, 2, ..., [num_class - 1].\n",
      "  warnings.warn(label_encoder_deprecation_msg, UserWarning)\n"
     ]
    },
    {
     "name": "stdout",
     "output_type": "stream",
     "text": [
      "[15:41:01] WARNING: C:/Users/Administrator/workspace/xgboost-win64_release_1.3.0/src/learner.cc:1061: Starting in XGBoost 1.3.0, the default evaluation metric used with the objective 'binary:logistic' was changed from 'error' to 'logloss'. Explicitly set eval_metric if you'd like to restore the old behavior.\n"
     ]
    },
    {
     "name": "stderr",
     "output_type": "stream",
     "text": [
      "c:\\users\\aman\\appdata\\local\\programs\\python\\python38\\lib\\site-packages\\xgboost\\sklearn.py:888: UserWarning: The use of label encoder in XGBClassifier is deprecated and will be removed in a future release. To remove this warning, do the following: 1) Pass option use_label_encoder=False when constructing XGBClassifier object; and 2) Encode your labels (y) as integers starting with 0, i.e. 0, 1, 2, ..., [num_class - 1].\n",
      "  warnings.warn(label_encoder_deprecation_msg, UserWarning)\n"
     ]
    },
    {
     "name": "stdout",
     "output_type": "stream",
     "text": [
      "[15:41:08] WARNING: C:/Users/Administrator/workspace/xgboost-win64_release_1.3.0/src/learner.cc:1061: Starting in XGBoost 1.3.0, the default evaluation metric used with the objective 'binary:logistic' was changed from 'error' to 'logloss'. Explicitly set eval_metric if you'd like to restore the old behavior.\n"
     ]
    },
    {
     "data": {
      "text/plain": [
       "BalancedBaggingClassifier(base_estimator=XGBClassifier(base_score=None,\n",
       "                                                       booster=None,\n",
       "                                                       colsample_bylevel=None,\n",
       "                                                       colsample_bynode=None,\n",
       "                                                       colsample_bytree=1,\n",
       "                                                       gamma=0.3, gpu_id=None,\n",
       "                                                       importance_type='gain',\n",
       "                                                       interaction_constraints=None,\n",
       "                                                       learning_rate=0.2,\n",
       "                                                       max_delta_step=None,\n",
       "                                                       max_depth=12,\n",
       "                                                       min_child_weight=7,\n",
       "                                                       missing=nan,\n",
       "                                                       monotone_constraints=None,\n",
       "                                                       n_estimators=100,\n",
       "                                                       n_jobs=None,\n",
       "                                                       num_parallel_tree=None,\n",
       "                                                       random_state=None,\n",
       "                                                       reg_alpha=None,\n",
       "                                                       reg_lambda=None,\n",
       "                                                       scale_pos_weight=None,\n",
       "                                                       subsample=None,\n",
       "                                                       tree_method=None,\n",
       "                                                       validate_parameters=None,\n",
       "                                                       verbosity=None),\n",
       "                          random_state=0)"
      ]
     },
     "execution_count": 89,
     "metadata": {},
     "output_type": "execute_result"
    }
   ],
   "source": [
    "model_sub.fit(xtrain,ytrain)"
   ]
  },
  {
   "cell_type": "code",
   "execution_count": 90,
   "metadata": {},
   "outputs": [],
   "source": [
    "test_data.columns=xtrain.columns"
   ]
  },
  {
   "cell_type": "code",
   "execution_count": 97,
   "metadata": {},
   "outputs": [],
   "source": [
    "submission=bbc.predict(test_data)"
   ]
  },
  {
   "cell_type": "code",
   "execution_count": 98,
   "metadata": {},
   "outputs": [],
   "source": [
    "final_dict={'id':test_data.Id.values,'risk_flag':submission}"
   ]
  },
  {
   "cell_type": "code",
   "execution_count": 99,
   "metadata": {},
   "outputs": [],
   "source": [
    "final_sub=pd.DataFrame(final_dict)"
   ]
  },
  {
   "cell_type": "code",
   "execution_count": 100,
   "metadata": {},
   "outputs": [],
   "source": [
    "final_sub.to_csv('Submission_onlytrain_bxgc.csv',index=False)"
   ]
  },
  {
   "cell_type": "code",
   "execution_count": null,
   "metadata": {},
   "outputs": [],
   "source": []
  }
 ],
 "metadata": {
  "kernelspec": {
   "display_name": "Python 3",
   "language": "python",
   "name": "python3"
  },
  "language_info": {
   "codemirror_mode": {
    "name": "ipython",
    "version": 3
   },
   "file_extension": ".py",
   "mimetype": "text/x-python",
   "name": "python",
   "nbconvert_exporter": "python",
   "pygments_lexer": "ipython3",
   "version": "3.8.4"
  }
 },
 "nbformat": 4,
 "nbformat_minor": 4
}
