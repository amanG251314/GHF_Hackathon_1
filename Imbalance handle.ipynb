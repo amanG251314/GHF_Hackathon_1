{
 "cells": [
  {
   "cell_type": "code",
   "execution_count": 4,
   "id": "8b72cc10",
   "metadata": {},
   "outputs": [
    {
     "name": "stdout",
     "output_type": "stream",
     "text": [
      "The autoreload extension is already loaded. To reload it, use:\n",
      "  %reload_ext autoreload\n"
     ]
    }
   ],
   "source": [
    "%load_ext autoreload\n",
    "%autoreload 2\n",
    "import sys\n",
    "import pickle\n",
    "import pandas as pd\n",
    "import numpy as np\n",
    "import preprocess_all as pal\n",
    "import read_all as ra\n",
    "from sklearn.preprocessing import StandardScaler\n",
    "from columns import colwep,colpla,maps,all_round_status\n",
    "from sklearn.ensemble import GradientBoostingClassifier,ExtraTreesClassifier,RandomForestClassifier\n",
    "from catboost import CatBoostClassifier\n",
    "\n",
    "\n",
    "from sklearn.metrics import accuracy_score, f1_score, roc_auc_score\n",
    "from sklearn.metrics import accuracy_score,hamming_loss,classification_report\n",
    "from sklearn.model_selection import train_test_split\n",
    "from sklearn.model_selection import ShuffleSplit, StratifiedKFold\n",
    "from sklearn.model_selection import GridSearchCV\n",
    "from sklearn.model_selection import cross_val_score\n",
    "from sklearn.model_selection import cross_validate\n",
    "from lightgbm import LGBMModel, LGBMClassifier\n",
    "\n",
    "# Multi Label Pkgs\n",
    "from skmultilearn.problem_transform import BinaryRelevance\n",
    "from skmultilearn.problem_transform import ClassifierChain\n",
    "from skmultilearn.problem_transform import LabelPowerset\n",
    "\n",
    "from sklearn.multioutput import MultiOutputClassifier\n",
    "\n",
    "import imblearn\n",
    "from collections import Counter\n",
    "\n",
    "import pickle\n",
    "import matplotlib.pyplot as plt\n",
    "%matplotlib inline"
   ]
  },
  {
   "cell_type": "code",
   "execution_count": 2,
   "id": "67040dbb",
   "metadata": {},
   "outputs": [
    {
     "name": "stdout",
     "output_type": "stream",
     "text": [
      "Reading 0th file\n",
      "(3293, 234)\n",
      "Reading 1th file\n",
      "(5455, 234)\n",
      "Reading 2th file\n",
      "(8806, 234)\n",
      "Reading 3th file\n",
      "(11112, 234)\n",
      "Reading 4th file\n",
      "(13455, 234)\n",
      "Reading 5th file\n",
      "(16985, 234)\n",
      "Reading 6th file\n",
      "(20596, 234)\n",
      "Reading 7th file\n",
      "(23150, 234)\n"
     ]
    }
   ],
   "source": [
    "## Importing Preprocessed Data\n",
    "template=\"D:/Skybox/Dataset/Win_Reason_Prepro/dataset_{:02}.json\"\n",
    "X,y,final_cols = ra.read_all(template,0,8)"
   ]
  },
  {
   "cell_type": "code",
   "execution_count": 3,
   "id": "80dbbada",
   "metadata": {},
   "outputs": [],
   "source": [
    "X_train, X_test, y_train, y_test = train_test_split(\\\n",
    "     X, y,test_size=0.33,random_state=42,shuffle=False) #stratify=y,"
   ]
  },
  {
   "cell_type": "code",
   "execution_count": 7,
   "id": "2c1e5334",
   "metadata": {},
   "outputs": [],
   "source": [
    "y_test_round_outcome=[i for i,j in y_test]\n",
    "y_test_win_reason=[j for i,j in y_test]"
   ]
  },
  {
   "cell_type": "code",
   "execution_count": 5,
   "id": "f39027e4",
   "metadata": {},
   "outputs": [
    {
     "name": "stdout",
     "output_type": "stream",
     "text": [
      "Counter({2: 5641, 3: 3831, 1: 3264, 0: 2050, 4: 724})\n"
     ]
    }
   ],
   "source": [
    "# summarize class distribution\n",
    "y_train_winreason=[j for i,j in y_train]\n",
    "counter = Counter(y_train_winreason)\n",
    "print(counter)"
   ]
  },
  {
   "cell_type": "code",
   "execution_count": 9,
   "id": "e99ca3e1",
   "metadata": {},
   "outputs": [],
   "source": [
    "def model_score(X_tr,y_tr,X_tes,y_tes_winreason,y_tes_round_outcome):\n",
    "    model=RandomForestClassifier(n_estimators=1000,random_state=2021)\n",
    "    model.fit(X_tr,y_tr)\n",
    "    pred=model.predict(X_tes)\n",
    "    prob=model.predict_proba(X_tes)\n",
    "    round_outcome_prob=[[pro[0]+pro[1]+pro[4],pro[2]+pro[3]] for pro in prob]\n",
    "    t_win = [np.where(probs[1]>0.5,1,0) for probs in round_outcome_prob]\n",
    "    print('round_outcome_accuracy: {}'.format(accuracy_score(y_tes_round_outcome,t_win)))\n",
    "    print('round_outcome_f1_scores: {}'.format(f1_score(y_tes_round_outcome,t_win,average=None)))\n",
    "    print('win_reason_f1 macro-score: {}'.format(f1_score(y_tes_winreason,pred,average='macro')))\n",
    "    print('win_reason_f1_scores: {}'.format(f1_score(y_tes_winreason,pred,average=None)))\n",
    "    "
   ]
  },
  {
   "cell_type": "markdown",
   "id": "cc383c56",
   "metadata": {},
   "source": [
    "## Balancing"
   ]
  },
  {
   "cell_type": "code",
   "execution_count": 10,
   "id": "f1029dd9",
   "metadata": {},
   "outputs": [
    {
     "name": "stdout",
     "output_type": "stream",
     "text": [
      "round_outcome_accuracy: 0.7738219895287958\n",
      "round_outcome_f1_scores: [0.70860034 0.81518717]\n",
      "win_reason_f1 macro-score: 0.4203231982627402\n",
      "win_reason_f1_scores: [0.50744417 0.48052632 0.72745728 0.37015616 0.01603206]\n"
     ]
    }
   ],
   "source": [
    "model_score(X_train,y_train_winreason,X_test,y_test_win_reason,y_test_round_outcome)"
   ]
  },
  {
   "cell_type": "code",
   "execution_count": 11,
   "id": "70564fde",
   "metadata": {},
   "outputs": [
    {
     "name": "stdout",
     "output_type": "stream",
     "text": [
      "The number of classes before fit Counter({2: 5641, 3: 3831, 1: 3264, 0: 2050, 4: 724})\n",
      "The number of classes after fit Counter({0: 5641, 1: 5641, 2: 5641, 3: 5641, 4: 5641})\n"
     ]
    }
   ],
   "source": [
    "## RandomOverSampler\n",
    "from imblearn.over_sampling import RandomOverSampler\n",
    "os=RandomOverSampler()\n",
    "X_train_os,y_train_os=os.fit_resample(X_train,y_train_winreason)\n",
    "print(\"The number of classes before fit {}\".format(Counter(y_train_winreason)))\n",
    "print(\"The number of classes after fit {}\".format(Counter(y_train_os)))"
   ]
  },
  {
   "cell_type": "code",
   "execution_count": 12,
   "id": "26c2ccb8",
   "metadata": {},
   "outputs": [
    {
     "name": "stdout",
     "output_type": "stream",
     "text": [
      "round_outcome_accuracy: 0.7617801047120419\n",
      "round_outcome_f1_scores: [0.68846286 0.80716253]\n",
      "win_reason_f1 macro-score: 0.4166856968283764\n",
      "win_reason_f1_scores: [0.51234568 0.47344461 0.72013829 0.35428907 0.02321083]\n"
     ]
    }
   ],
   "source": [
    "model_score(X_train_os,y_train_os,X_test,y_test_win_reason,y_test_round_outcome)"
   ]
  },
  {
   "cell_type": "code",
   "execution_count": 13,
   "id": "cdce0b12",
   "metadata": {},
   "outputs": [
    {
     "name": "stdout",
     "output_type": "stream",
     "text": [
      "The number of classes before fit Counter({2: 5641, 3: 3831, 1: 3264, 0: 2050, 4: 724})\n",
      "The number of classes after fit Counter({0: 724, 1: 724, 2: 724, 3: 724, 4: 724})\n"
     ]
    }
   ],
   "source": [
    "# UnderSamping Version_1\n",
    "from imblearn.under_sampling import RandomUnderSampler\n",
    "us1=RandomUnderSampler(random_state=1)\n",
    "X_train_us1,y_train_us1=us1.fit_resample(X_train,y_train_winreason)\n",
    "print(\"The number of classes before fit {}\".format(Counter(y_train_winreason)))\n",
    "print(\"The number of classes after fit {}\".format(Counter(y_train_us1)))"
   ]
  },
  {
   "cell_type": "code",
   "execution_count": 14,
   "id": "c9d40c38",
   "metadata": {},
   "outputs": [
    {
     "name": "stdout",
     "output_type": "stream",
     "text": [
      "round_outcome_accuracy: 0.756675392670157\n",
      "round_outcome_f1_scores: [0.71639969 0.7869341 ]\n",
      "win_reason_f1 macro-score: 0.4304043800084975\n",
      "win_reason_f1_scores: [0.558495   0.46852123 0.70145037 0.36420812 0.05934718]\n"
     ]
    }
   ],
   "source": [
    "model_score(X_train_us1,y_train_us1,X_test,y_test_win_reason,y_test_round_outcome)"
   ]
  },
  {
   "cell_type": "code",
   "execution_count": 15,
   "id": "0d9577ab",
   "metadata": {},
   "outputs": [
    {
     "name": "stdout",
     "output_type": "stream",
     "text": [
      "The number of classes before fit Counter({2: 5641, 3: 3831, 1: 3264, 0: 2050, 4: 724})\n",
      "The number of classes after fit Counter({2: 5641, 4: 5641, 0: 5640, 3: 5639, 1: 5638})\n"
     ]
    }
   ],
   "source": [
    "## SMOTETomek\n",
    "from imblearn.combine import SMOTETomek\n",
    "st=SMOTETomek()\n",
    "X_train_st,y_train_st=st.fit_resample(X_train,y_train_winreason)\n",
    "print(\"The number of classes before fit {}\".format(Counter(y_train_winreason)))\n",
    "print(\"The number of classes after fit {}\".format(Counter(y_train_st)))"
   ]
  },
  {
   "cell_type": "code",
   "execution_count": 16,
   "id": "484ec466",
   "metadata": {},
   "outputs": [
    {
     "name": "stdout",
     "output_type": "stream",
     "text": [
      "round_outcome_accuracy: 0.7609947643979058\n",
      "round_outcome_f1_scores: [0.69697975 0.80267992]\n",
      "win_reason_f1 macro-score: 0.41476630447007634\n",
      "win_reason_f1_scores: [0.51533742 0.46435845 0.70796771 0.348      0.03816794]\n"
     ]
    }
   ],
   "source": [
    "model_score(X_train_st,y_train_st,X_test,y_test_win_reason,y_test_round_outcome)"
   ]
  },
  {
   "cell_type": "code",
   "execution_count": 17,
   "id": "84de8894",
   "metadata": {},
   "outputs": [
    {
     "name": "stdout",
     "output_type": "stream",
     "text": [
      "The number of classes before fit Counter({2: 5641, 3: 3831, 1: 3264, 0: 2050, 4: 724})\n",
      "The number of classes after fit Counter({2: 5639, 3: 3827, 1: 3261, 0: 2048, 4: 724})\n"
     ]
    }
   ],
   "source": [
    "## TomekLinks\n",
    "from imblearn.under_sampling import TomekLinks\n",
    "tl= TomekLinks()\n",
    "X_train_tl,y_train_tl=tl.fit_resample(X_train,y_train_winreason)\n",
    "print(\"The number of classes before fit {}\".format(Counter(y_train_winreason)))\n",
    "print(\"The number of classes after fit {}\".format(Counter(y_train_tl)))"
   ]
  },
  {
   "cell_type": "code",
   "execution_count": 18,
   "id": "2039b51c",
   "metadata": {},
   "outputs": [
    {
     "name": "stdout",
     "output_type": "stream",
     "text": [
      "round_outcome_accuracy: 0.762041884816754\n",
      "round_outcome_f1_scores: [0.69196882 0.80614203]\n",
      "win_reason_f1 macro-score: 0.42480328734304296\n",
      "win_reason_f1_scores: [0.50188679 0.48853388 0.72562125 0.39194245 0.01603206]\n"
     ]
    }
   ],
   "source": [
    "model_score(X_train_tl,y_train_tl,X_test,y_test_win_reason,y_test_round_outcome)"
   ]
  },
  {
   "cell_type": "code",
   "execution_count": 19,
   "id": "47f43197",
   "metadata": {},
   "outputs": [
    {
     "name": "stdout",
     "output_type": "stream",
     "text": [
      "The number of classes before fit Counter({2: 5641, 3: 3831, 1: 3264, 0: 2050, 4: 724})\n",
      "The number of classes after fit Counter({4: 5638, 0: 5609, 2: 5541, 1: 5518, 3: 5510})\n"
     ]
    }
   ],
   "source": [
    "## SMOTE ENN\n",
    "from imblearn.combine import SMOTEENN\n",
    "senn=SMOTEENN(random_state=1)\n",
    "X_train_senn,y_train_senn=senn.fit_resample(X_train,y_train_winreason)\n",
    "print(\"The number of classes before fit {}\".format(Counter(y_train_winreason)))\n",
    "print(\"The number of classes after fit {}\".format(Counter(y_train_senn)))"
   ]
  },
  {
   "cell_type": "code",
   "execution_count": 20,
   "id": "0e82e2e8",
   "metadata": {},
   "outputs": [
    {
     "name": "stdout",
     "output_type": "stream",
     "text": [
      "round_outcome_accuracy: 0.7647905759162303\n",
      "round_outcome_f1_scores: [0.70973995 0.80228848]\n",
      "win_reason_f1 macro-score: 0.4196318581788918\n",
      "win_reason_f1_scores: [0.5135468  0.46801181 0.71283666 0.35498354 0.04878049]\n"
     ]
    }
   ],
   "source": [
    "model_score(X_train_senn,y_train_senn,X_test,y_test_win_reason,y_test_round_outcome)"
   ]
  },
  {
   "cell_type": "code",
   "execution_count": 21,
   "id": "e1381ce7",
   "metadata": {},
   "outputs": [
    {
     "name": "stdout",
     "output_type": "stream",
     "text": [
      "The number of classes before fit Counter({2: 5641, 3: 3831, 1: 3264, 0: 2050, 4: 724})\n",
      "The number of classes after fit Counter({4: 724, 3: 114, 1: 110, 2: 91, 0: 58})\n"
     ]
    }
   ],
   "source": [
    "## Condensed NearestNeighbour\n",
    "from imblearn.under_sampling import CondensedNearestNeighbour\n",
    "cnn=CondensedNearestNeighbour(random_state=1)\n",
    "X_train_cnn,y_train_cnn=cnn.fit_resample(X_train,y_train_winreason)\n",
    "print(\"The number of classes before fit {}\".format(Counter(y_train_winreason)))\n",
    "print(\"The number of classes after fit {}\".format(Counter(y_train_cnn)))"
   ]
  },
  {
   "cell_type": "code",
   "execution_count": 22,
   "id": "0f5e5a22",
   "metadata": {},
   "outputs": [
    {
     "name": "stdout",
     "output_type": "stream",
     "text": [
      "round_outcome_accuracy: 0.7460732984293194\n",
      "round_outcome_f1_scores: [0.73805023 0.75361951]\n",
      "win_reason_f1 macro-score: 0.42202119851482295\n",
      "win_reason_f1_scores: [0.54039301 0.40038406 0.5525075  0.35174679 0.26507463]\n"
     ]
    }
   ],
   "source": [
    "model_score(X_train_cnn,y_train_cnn,X_test,y_test_win_reason,y_test_round_outcome)"
   ]
  },
  {
   "cell_type": "code",
   "execution_count": 23,
   "id": "139f3390",
   "metadata": {},
   "outputs": [
    {
     "name": "stdout",
     "output_type": "stream",
     "text": [
      "The number of classes before fit Counter({2: 5641, 3: 3831, 1: 3264, 0: 2050, 4: 724})\n",
      "The number of classes after fit Counter({2: 5545, 3: 3658, 1: 3109, 0: 1985, 4: 724})\n"
     ]
    }
   ],
   "source": [
    "#Edited NearestNeighbours\n",
    "from imblearn.under_sampling import EditedNearestNeighbours\n",
    "enn=EditedNearestNeighbours()\n",
    "X_train_enn,y_train_enn=enn.fit_resample(X_train,y_train_winreason)\n",
    "print(\"The number of classes before fit {}\".format(Counter(y_train_winreason)))\n",
    "print(\"The number of classes after fit {}\".format(Counter(y_train_enn)))"
   ]
  },
  {
   "cell_type": "code",
   "execution_count": 24,
   "id": "82757077",
   "metadata": {},
   "outputs": [
    {
     "name": "stdout",
     "output_type": "stream",
     "text": [
      "round_outcome_accuracy: 0.7691099476439791\n",
      "round_outcome_f1_scores: [0.70590197 0.80995475]\n",
      "win_reason_f1 macro-score: 0.4282152096592413\n",
      "win_reason_f1_scores: [0.50530256 0.4824173  0.72389712 0.39443962 0.03501946]\n"
     ]
    }
   ],
   "source": [
    "model_score(X_train_enn,y_train_enn,X_test,y_test_win_reason,y_test_round_outcome)"
   ]
  },
  {
   "cell_type": "code",
   "execution_count": null,
   "id": "8c838920",
   "metadata": {},
   "outputs": [],
   "source": []
  }
 ],
 "metadata": {
  "kernelspec": {
   "display_name": "Python 3",
   "language": "python",
   "name": "python3"
  },
  "language_info": {
   "codemirror_mode": {
    "name": "ipython",
    "version": 3
   },
   "file_extension": ".py",
   "mimetype": "text/x-python",
   "name": "python",
   "nbconvert_exporter": "python",
   "pygments_lexer": "ipython3",
   "version": "3.8.4"
  }
 },
 "nbformat": 4,
 "nbformat_minor": 5
}
